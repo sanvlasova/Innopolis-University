{
  "cells": [
    {
      "cell_type": "markdown",
      "metadata": {
        "id": "_Er4bE4IJjJJ"
      },
      "source": [
        "После каждой обработки данных/графика/теста обязателен вывод"
      ]
    },
    {
      "cell_type": "code",
      "execution_count": null,
      "metadata": {
        "colab": {
          "base_uri": "https://localhost:8080/"
        },
        "id": "HmQdWor6KRJy",
        "outputId": "c65e06ba-828d-4963-bce4-236ccb059f61"
      },
      "outputs": [
        {
          "output_type": "stream",
          "name": "stdout",
          "text": [
            "Drive already mounted at /content/drive; to attempt to forcibly remount, call drive.mount(\"/content/drive\", force_remount=True).\n"
          ]
        }
      ],
      "source": [
        "import pandas as pd\n",
        "import numpy as np\n",
        "import os\n",
        "import matplotlib.pyplot as plt\n",
        "import seaborn as sns\n",
        "\n",
        "from google.colab import drive\n",
        "drive.mount('/content/drive')"
      ]
    },
    {
      "cell_type": "code",
      "execution_count": null,
      "metadata": {
        "colab": {
          "base_uri": "https://localhost:8080/",
          "height": 521
        },
        "id": "zA5z0QdoKgEm",
        "outputId": "c9660da2-14c2-4ea8-b928-9b3fa6035242"
      },
      "outputs": [
        {
          "output_type": "execute_result",
          "data": {
            "text/plain": [
              "                                url        domain  post_id  \\\n",
              "0  https://habrahabr.ru/post/18284/  habrahabr.ru    18284   \n",
              "1  https://habrahabr.ru/post/18285/  habrahabr.ru    18285   \n",
              "2  https://habrahabr.ru/post/18286/  habrahabr.ru    18286   \n",
              "3  https://habrahabr.ru/post/18291/  habrahabr.ru    18291   \n",
              "4  https://geektimes.ru/post/18294/  geektimes.ru    18294   \n",
              "\n",
              "             published      author     flow  polling  content_len  \\\n",
              "0  2008-01-01 18:19:00      @Tapac  develop    False         4305   \n",
              "1  2008-01-01 18:30:00  @DezmASter   design    False         7344   \n",
              "2  2008-01-01 18:34:00  @DezmASter   design    False         8431   \n",
              "3  2008-01-02 01:32:00    @Taoorus   design    False         5662   \n",
              "4  2008-01-02 14:34:00    @dennydo      NaN    False         3706   \n",
              "\n",
              "                                               title  comments  favs  views  \\\n",
              "0     Новогодний подарок блоггерам — WordPress 2.3.2         0     0    236   \n",
              "1  Сумасшедшие яйца, или сервис для отслеживания ...         1     1    353   \n",
              "2  Сумасшедшие яйца, или сервис для отслеживания ...        47    72   1200   \n",
              "3     Сглаживание шрифтов, и субпиксельная отрисовка       102    36   5700   \n",
              "4                      Почему мне не нравится iPhone       230     6   1400   \n",
              "\n",
              "   votes_plus  votes_minus  views_lognorm  favs_lognorm  comments_lognorm  \n",
              "0         0.0          0.0      -0.792687     -1.344075         -2.436871  \n",
              "1         1.0          0.0      -0.485214     -0.831946         -1.873193  \n",
              "2        45.0          5.0       0.446090      1.794023          0.574656  \n",
              "3        72.0          3.0       1.627469      1.300050          1.167375  \n",
              "4        73.0         15.0       1.362397      0.961094          2.020356  "
            ],
            "text/html": [
              "\n",
              "  <div id=\"df-2eb784b7-370c-4ec7-b892-200ad4c430c0\" class=\"colab-df-container\">\n",
              "    <div>\n",
              "<style scoped>\n",
              "    .dataframe tbody tr th:only-of-type {\n",
              "        vertical-align: middle;\n",
              "    }\n",
              "\n",
              "    .dataframe tbody tr th {\n",
              "        vertical-align: top;\n",
              "    }\n",
              "\n",
              "    .dataframe thead th {\n",
              "        text-align: right;\n",
              "    }\n",
              "</style>\n",
              "<table border=\"1\" class=\"dataframe\">\n",
              "  <thead>\n",
              "    <tr style=\"text-align: right;\">\n",
              "      <th></th>\n",
              "      <th>url</th>\n",
              "      <th>domain</th>\n",
              "      <th>post_id</th>\n",
              "      <th>published</th>\n",
              "      <th>author</th>\n",
              "      <th>flow</th>\n",
              "      <th>polling</th>\n",
              "      <th>content_len</th>\n",
              "      <th>title</th>\n",
              "      <th>comments</th>\n",
              "      <th>favs</th>\n",
              "      <th>views</th>\n",
              "      <th>votes_plus</th>\n",
              "      <th>votes_minus</th>\n",
              "      <th>views_lognorm</th>\n",
              "      <th>favs_lognorm</th>\n",
              "      <th>comments_lognorm</th>\n",
              "    </tr>\n",
              "  </thead>\n",
              "  <tbody>\n",
              "    <tr>\n",
              "      <th>0</th>\n",
              "      <td>https://habrahabr.ru/post/18284/</td>\n",
              "      <td>habrahabr.ru</td>\n",
              "      <td>18284</td>\n",
              "      <td>2008-01-01 18:19:00</td>\n",
              "      <td>@Tapac</td>\n",
              "      <td>develop</td>\n",
              "      <td>False</td>\n",
              "      <td>4305</td>\n",
              "      <td>Новогодний подарок блоггерам — WordPress 2.3.2</td>\n",
              "      <td>0</td>\n",
              "      <td>0</td>\n",
              "      <td>236</td>\n",
              "      <td>0.0</td>\n",
              "      <td>0.0</td>\n",
              "      <td>-0.792687</td>\n",
              "      <td>-1.344075</td>\n",
              "      <td>-2.436871</td>\n",
              "    </tr>\n",
              "    <tr>\n",
              "      <th>1</th>\n",
              "      <td>https://habrahabr.ru/post/18285/</td>\n",
              "      <td>habrahabr.ru</td>\n",
              "      <td>18285</td>\n",
              "      <td>2008-01-01 18:30:00</td>\n",
              "      <td>@DezmASter</td>\n",
              "      <td>design</td>\n",
              "      <td>False</td>\n",
              "      <td>7344</td>\n",
              "      <td>Сумасшедшие яйца, или сервис для отслеживания ...</td>\n",
              "      <td>1</td>\n",
              "      <td>1</td>\n",
              "      <td>353</td>\n",
              "      <td>1.0</td>\n",
              "      <td>0.0</td>\n",
              "      <td>-0.485214</td>\n",
              "      <td>-0.831946</td>\n",
              "      <td>-1.873193</td>\n",
              "    </tr>\n",
              "    <tr>\n",
              "      <th>2</th>\n",
              "      <td>https://habrahabr.ru/post/18286/</td>\n",
              "      <td>habrahabr.ru</td>\n",
              "      <td>18286</td>\n",
              "      <td>2008-01-01 18:34:00</td>\n",
              "      <td>@DezmASter</td>\n",
              "      <td>design</td>\n",
              "      <td>False</td>\n",
              "      <td>8431</td>\n",
              "      <td>Сумасшедшие яйца, или сервис для отслеживания ...</td>\n",
              "      <td>47</td>\n",
              "      <td>72</td>\n",
              "      <td>1200</td>\n",
              "      <td>45.0</td>\n",
              "      <td>5.0</td>\n",
              "      <td>0.446090</td>\n",
              "      <td>1.794023</td>\n",
              "      <td>0.574656</td>\n",
              "    </tr>\n",
              "    <tr>\n",
              "      <th>3</th>\n",
              "      <td>https://habrahabr.ru/post/18291/</td>\n",
              "      <td>habrahabr.ru</td>\n",
              "      <td>18291</td>\n",
              "      <td>2008-01-02 01:32:00</td>\n",
              "      <td>@Taoorus</td>\n",
              "      <td>design</td>\n",
              "      <td>False</td>\n",
              "      <td>5662</td>\n",
              "      <td>Сглаживание шрифтов, и субпиксельная отрисовка</td>\n",
              "      <td>102</td>\n",
              "      <td>36</td>\n",
              "      <td>5700</td>\n",
              "      <td>72.0</td>\n",
              "      <td>3.0</td>\n",
              "      <td>1.627469</td>\n",
              "      <td>1.300050</td>\n",
              "      <td>1.167375</td>\n",
              "    </tr>\n",
              "    <tr>\n",
              "      <th>4</th>\n",
              "      <td>https://geektimes.ru/post/18294/</td>\n",
              "      <td>geektimes.ru</td>\n",
              "      <td>18294</td>\n",
              "      <td>2008-01-02 14:34:00</td>\n",
              "      <td>@dennydo</td>\n",
              "      <td>NaN</td>\n",
              "      <td>False</td>\n",
              "      <td>3706</td>\n",
              "      <td>Почему мне не нравится iPhone</td>\n",
              "      <td>230</td>\n",
              "      <td>6</td>\n",
              "      <td>1400</td>\n",
              "      <td>73.0</td>\n",
              "      <td>15.0</td>\n",
              "      <td>1.362397</td>\n",
              "      <td>0.961094</td>\n",
              "      <td>2.020356</td>\n",
              "    </tr>\n",
              "  </tbody>\n",
              "</table>\n",
              "</div>\n",
              "    <div class=\"colab-df-buttons\">\n",
              "\n",
              "  <div class=\"colab-df-container\">\n",
              "    <button class=\"colab-df-convert\" onclick=\"convertToInteractive('df-2eb784b7-370c-4ec7-b892-200ad4c430c0')\"\n",
              "            title=\"Convert this dataframe to an interactive table.\"\n",
              "            style=\"display:none;\">\n",
              "\n",
              "  <svg xmlns=\"http://www.w3.org/2000/svg\" height=\"24px\" viewBox=\"0 -960 960 960\">\n",
              "    <path d=\"M120-120v-720h720v720H120Zm60-500h600v-160H180v160Zm220 220h160v-160H400v160Zm0 220h160v-160H400v160ZM180-400h160v-160H180v160Zm440 0h160v-160H620v160ZM180-180h160v-160H180v160Zm440 0h160v-160H620v160Z\"/>\n",
              "  </svg>\n",
              "    </button>\n",
              "\n",
              "  <style>\n",
              "    .colab-df-container {\n",
              "      display:flex;\n",
              "      gap: 12px;\n",
              "    }\n",
              "\n",
              "    .colab-df-convert {\n",
              "      background-color: #E8F0FE;\n",
              "      border: none;\n",
              "      border-radius: 50%;\n",
              "      cursor: pointer;\n",
              "      display: none;\n",
              "      fill: #1967D2;\n",
              "      height: 32px;\n",
              "      padding: 0 0 0 0;\n",
              "      width: 32px;\n",
              "    }\n",
              "\n",
              "    .colab-df-convert:hover {\n",
              "      background-color: #E2EBFA;\n",
              "      box-shadow: 0px 1px 2px rgba(60, 64, 67, 0.3), 0px 1px 3px 1px rgba(60, 64, 67, 0.15);\n",
              "      fill: #174EA6;\n",
              "    }\n",
              "\n",
              "    .colab-df-buttons div {\n",
              "      margin-bottom: 4px;\n",
              "    }\n",
              "\n",
              "    [theme=dark] .colab-df-convert {\n",
              "      background-color: #3B4455;\n",
              "      fill: #D2E3FC;\n",
              "    }\n",
              "\n",
              "    [theme=dark] .colab-df-convert:hover {\n",
              "      background-color: #434B5C;\n",
              "      box-shadow: 0px 1px 3px 1px rgba(0, 0, 0, 0.15);\n",
              "      filter: drop-shadow(0px 1px 2px rgba(0, 0, 0, 0.3));\n",
              "      fill: #FFFFFF;\n",
              "    }\n",
              "  </style>\n",
              "\n",
              "    <script>\n",
              "      const buttonEl =\n",
              "        document.querySelector('#df-2eb784b7-370c-4ec7-b892-200ad4c430c0 button.colab-df-convert');\n",
              "      buttonEl.style.display =\n",
              "        google.colab.kernel.accessAllowed ? 'block' : 'none';\n",
              "\n",
              "      async function convertToInteractive(key) {\n",
              "        const element = document.querySelector('#df-2eb784b7-370c-4ec7-b892-200ad4c430c0');\n",
              "        const dataTable =\n",
              "          await google.colab.kernel.invokeFunction('convertToInteractive',\n",
              "                                                    [key], {});\n",
              "        if (!dataTable) return;\n",
              "\n",
              "        const docLinkHtml = 'Like what you see? Visit the ' +\n",
              "          '<a target=\"_blank\" href=https://colab.research.google.com/notebooks/data_table.ipynb>data table notebook</a>'\n",
              "          + ' to learn more about interactive tables.';\n",
              "        element.innerHTML = '';\n",
              "        dataTable['output_type'] = 'display_data';\n",
              "        await google.colab.output.renderOutput(dataTable, element);\n",
              "        const docLink = document.createElement('div');\n",
              "        docLink.innerHTML = docLinkHtml;\n",
              "        element.appendChild(docLink);\n",
              "      }\n",
              "    </script>\n",
              "  </div>\n",
              "\n",
              "\n",
              "<div id=\"df-83e4a2fc-61d3-44b0-8529-9e266002badb\">\n",
              "  <button class=\"colab-df-quickchart\" onclick=\"quickchart('df-83e4a2fc-61d3-44b0-8529-9e266002badb')\"\n",
              "            title=\"Suggest charts\"\n",
              "            style=\"display:none;\">\n",
              "\n",
              "<svg xmlns=\"http://www.w3.org/2000/svg\" height=\"24px\"viewBox=\"0 0 24 24\"\n",
              "     width=\"24px\">\n",
              "    <g>\n",
              "        <path d=\"M19 3H5c-1.1 0-2 .9-2 2v14c0 1.1.9 2 2 2h14c1.1 0 2-.9 2-2V5c0-1.1-.9-2-2-2zM9 17H7v-7h2v7zm4 0h-2V7h2v10zm4 0h-2v-4h2v4z\"/>\n",
              "    </g>\n",
              "</svg>\n",
              "  </button>\n",
              "\n",
              "<style>\n",
              "  .colab-df-quickchart {\n",
              "      --bg-color: #E8F0FE;\n",
              "      --fill-color: #1967D2;\n",
              "      --hover-bg-color: #E2EBFA;\n",
              "      --hover-fill-color: #174EA6;\n",
              "      --disabled-fill-color: #AAA;\n",
              "      --disabled-bg-color: #DDD;\n",
              "  }\n",
              "\n",
              "  [theme=dark] .colab-df-quickchart {\n",
              "      --bg-color: #3B4455;\n",
              "      --fill-color: #D2E3FC;\n",
              "      --hover-bg-color: #434B5C;\n",
              "      --hover-fill-color: #FFFFFF;\n",
              "      --disabled-bg-color: #3B4455;\n",
              "      --disabled-fill-color: #666;\n",
              "  }\n",
              "\n",
              "  .colab-df-quickchart {\n",
              "    background-color: var(--bg-color);\n",
              "    border: none;\n",
              "    border-radius: 50%;\n",
              "    cursor: pointer;\n",
              "    display: none;\n",
              "    fill: var(--fill-color);\n",
              "    height: 32px;\n",
              "    padding: 0;\n",
              "    width: 32px;\n",
              "  }\n",
              "\n",
              "  .colab-df-quickchart:hover {\n",
              "    background-color: var(--hover-bg-color);\n",
              "    box-shadow: 0 1px 2px rgba(60, 64, 67, 0.3), 0 1px 3px 1px rgba(60, 64, 67, 0.15);\n",
              "    fill: var(--button-hover-fill-color);\n",
              "  }\n",
              "\n",
              "  .colab-df-quickchart-complete:disabled,\n",
              "  .colab-df-quickchart-complete:disabled:hover {\n",
              "    background-color: var(--disabled-bg-color);\n",
              "    fill: var(--disabled-fill-color);\n",
              "    box-shadow: none;\n",
              "  }\n",
              "\n",
              "  .colab-df-spinner {\n",
              "    border: 2px solid var(--fill-color);\n",
              "    border-color: transparent;\n",
              "    border-bottom-color: var(--fill-color);\n",
              "    animation:\n",
              "      spin 1s steps(1) infinite;\n",
              "  }\n",
              "\n",
              "  @keyframes spin {\n",
              "    0% {\n",
              "      border-color: transparent;\n",
              "      border-bottom-color: var(--fill-color);\n",
              "      border-left-color: var(--fill-color);\n",
              "    }\n",
              "    20% {\n",
              "      border-color: transparent;\n",
              "      border-left-color: var(--fill-color);\n",
              "      border-top-color: var(--fill-color);\n",
              "    }\n",
              "    30% {\n",
              "      border-color: transparent;\n",
              "      border-left-color: var(--fill-color);\n",
              "      border-top-color: var(--fill-color);\n",
              "      border-right-color: var(--fill-color);\n",
              "    }\n",
              "    40% {\n",
              "      border-color: transparent;\n",
              "      border-right-color: var(--fill-color);\n",
              "      border-top-color: var(--fill-color);\n",
              "    }\n",
              "    60% {\n",
              "      border-color: transparent;\n",
              "      border-right-color: var(--fill-color);\n",
              "    }\n",
              "    80% {\n",
              "      border-color: transparent;\n",
              "      border-right-color: var(--fill-color);\n",
              "      border-bottom-color: var(--fill-color);\n",
              "    }\n",
              "    90% {\n",
              "      border-color: transparent;\n",
              "      border-bottom-color: var(--fill-color);\n",
              "    }\n",
              "  }\n",
              "</style>\n",
              "\n",
              "  <script>\n",
              "    async function quickchart(key) {\n",
              "      const quickchartButtonEl =\n",
              "        document.querySelector('#' + key + ' button');\n",
              "      quickchartButtonEl.disabled = true;  // To prevent multiple clicks.\n",
              "      quickchartButtonEl.classList.add('colab-df-spinner');\n",
              "      try {\n",
              "        const charts = await google.colab.kernel.invokeFunction(\n",
              "            'suggestCharts', [key], {});\n",
              "      } catch (error) {\n",
              "        console.error('Error during call to suggestCharts:', error);\n",
              "      }\n",
              "      quickchartButtonEl.classList.remove('colab-df-spinner');\n",
              "      quickchartButtonEl.classList.add('colab-df-quickchart-complete');\n",
              "    }\n",
              "    (() => {\n",
              "      let quickchartButtonEl =\n",
              "        document.querySelector('#df-83e4a2fc-61d3-44b0-8529-9e266002badb button');\n",
              "      quickchartButtonEl.style.display =\n",
              "        google.colab.kernel.accessAllowed ? 'block' : 'none';\n",
              "    })();\n",
              "  </script>\n",
              "</div>\n",
              "    </div>\n",
              "  </div>\n"
            ],
            "application/vnd.google.colaboratory.intrinsic+json": {
              "type": "dataframe",
              "variable_name": "df"
            }
          },
          "metadata": {},
          "execution_count": 2
        }
      ],
      "source": [
        "df = pd.read_csv('drive/MyDrive/howpop_train.csv')\n",
        "df.head()"
      ]
    },
    {
      "cell_type": "markdown",
      "metadata": {
        "id": "w2IxZQOiRlDJ"
      },
      "source": [
        "## 1. Проведите первичный анализ данных"
      ]
    },
    {
      "cell_type": "markdown",
      "metadata": {
        "id": "8noPt0ooR_yA"
      },
      "source": [
        "1.1. Изучить данные"
      ]
    },
    {
      "cell_type": "code",
      "execution_count": null,
      "metadata": {
        "colab": {
          "base_uri": "https://localhost:8080/"
        },
        "id": "B6tOhDtLSWoN",
        "outputId": "f83cdf26-f543-41be-f37c-b10e200e3ce6"
      },
      "outputs": [
        {
          "output_type": "execute_result",
          "data": {
            "text/plain": [
              "(134137, 17)"
            ]
          },
          "metadata": {},
          "execution_count": 3
        }
      ],
      "source": [
        "# Количество строк и столбцов в датафрейме\n",
        "df.shape"
      ]
    },
    {
      "cell_type": "code",
      "execution_count": null,
      "metadata": {
        "colab": {
          "base_uri": "https://localhost:8080/"
        },
        "id": "pfUVGT0Rjm1Q",
        "outputId": "8758a483-a3c2-4bf5-d74f-8d03dc76ef71"
      },
      "outputs": [
        {
          "output_type": "stream",
          "name": "stdout",
          "text": [
            "<class 'pandas.core.frame.DataFrame'>\n",
            "RangeIndex: 134137 entries, 0 to 134136\n",
            "Data columns (total 17 columns):\n",
            " #   Column            Non-Null Count   Dtype  \n",
            "---  ------            --------------   -----  \n",
            " 0   url               134137 non-null  object \n",
            " 1   domain            134137 non-null  object \n",
            " 2   post_id           134137 non-null  int64  \n",
            " 3   published         134137 non-null  object \n",
            " 4   author            97657 non-null   object \n",
            " 5   flow              97048 non-null   object \n",
            " 6   polling           134137 non-null  bool   \n",
            " 7   content_len       134137 non-null  int64  \n",
            " 8   title             134137 non-null  object \n",
            " 9   comments          134137 non-null  int64  \n",
            " 10  favs              134137 non-null  int64  \n",
            " 11  views             134137 non-null  int64  \n",
            " 12  votes_plus        133566 non-null  float64\n",
            " 13  votes_minus       133566 non-null  float64\n",
            " 14  views_lognorm     134137 non-null  float64\n",
            " 15  favs_lognorm      134137 non-null  float64\n",
            " 16  comments_lognorm  134137 non-null  float64\n",
            "dtypes: bool(1), float64(5), int64(5), object(6)\n",
            "memory usage: 16.5+ MB\n"
          ]
        }
      ],
      "source": [
        "# Основная информация о числе непустых значений в столбцах и их типах в таблице\n",
        "df.info()"
      ]
    },
    {
      "cell_type": "code",
      "execution_count": null,
      "metadata": {
        "colab": {
          "base_uri": "https://localhost:8080/",
          "height": 300
        },
        "id": "4Q271eKljwVB",
        "outputId": "3a4f6793-0118-468f-b53d-8035a199d563"
      },
      "outputs": [
        {
          "output_type": "execute_result",
          "data": {
            "text/plain": [
              "             post_id    content_len       comments           favs  \\\n",
              "count  134137.000000  134137.000000  134137.000000  134137.000000   \n",
              "mean   181307.054265    7516.929699      39.625994      71.999866   \n",
              "std     81766.350702    8724.771640      62.398958     145.854135   \n",
              "min     18284.000000       1.000000       0.000000       0.000000   \n",
              "25%    115565.000000    2179.000000       7.000000       8.000000   \n",
              "50%    182666.000000    4949.000000      19.000000      27.000000   \n",
              "75%    257401.000000    9858.000000      48.000000      78.000000   \n",
              "max    314088.000000  352471.000000    2266.000000    8718.000000   \n",
              "\n",
              "              views     votes_plus    votes_minus  views_lognorm  \\\n",
              "count  1.341370e+05  133566.000000  133566.000000  134137.000000   \n",
              "mean   1.663101e+04      35.536888       8.050035       0.004849   \n",
              "std    3.147982e+04      42.461073      11.398282       1.002158   \n",
              "min    3.000000e+00       0.000000       0.000000      -6.615254   \n",
              "25%    2.100000e+03      11.000000       2.000000      -0.706552   \n",
              "50%    7.600000e+03      22.000000       5.000000      -0.020934   \n",
              "75%    1.870000e+04      45.000000      10.000000       0.682689   \n",
              "max    1.730000e+06    1466.000000     445.000000       5.182821   \n",
              "\n",
              "        favs_lognorm  comments_lognorm  \n",
              "count  134137.000000     134137.000000  \n",
              "mean        0.003402         -0.003675  \n",
              "std         1.002778          1.005259  \n",
              "min        -4.137662         -4.161967  \n",
              "25%        -0.695780         -0.633775  \n",
              "50%         0.007022          0.072082  \n",
              "75%         0.708778          0.697072  \n",
              "max         4.872866          3.900973  "
            ],
            "text/html": [
              "\n",
              "  <div id=\"df-490c27b7-4a01-48f0-af34-a0bf2e5d0161\" class=\"colab-df-container\">\n",
              "    <div>\n",
              "<style scoped>\n",
              "    .dataframe tbody tr th:only-of-type {\n",
              "        vertical-align: middle;\n",
              "    }\n",
              "\n",
              "    .dataframe tbody tr th {\n",
              "        vertical-align: top;\n",
              "    }\n",
              "\n",
              "    .dataframe thead th {\n",
              "        text-align: right;\n",
              "    }\n",
              "</style>\n",
              "<table border=\"1\" class=\"dataframe\">\n",
              "  <thead>\n",
              "    <tr style=\"text-align: right;\">\n",
              "      <th></th>\n",
              "      <th>post_id</th>\n",
              "      <th>content_len</th>\n",
              "      <th>comments</th>\n",
              "      <th>favs</th>\n",
              "      <th>views</th>\n",
              "      <th>votes_plus</th>\n",
              "      <th>votes_minus</th>\n",
              "      <th>views_lognorm</th>\n",
              "      <th>favs_lognorm</th>\n",
              "      <th>comments_lognorm</th>\n",
              "    </tr>\n",
              "  </thead>\n",
              "  <tbody>\n",
              "    <tr>\n",
              "      <th>count</th>\n",
              "      <td>134137.000000</td>\n",
              "      <td>134137.000000</td>\n",
              "      <td>134137.000000</td>\n",
              "      <td>134137.000000</td>\n",
              "      <td>1.341370e+05</td>\n",
              "      <td>133566.000000</td>\n",
              "      <td>133566.000000</td>\n",
              "      <td>134137.000000</td>\n",
              "      <td>134137.000000</td>\n",
              "      <td>134137.000000</td>\n",
              "    </tr>\n",
              "    <tr>\n",
              "      <th>mean</th>\n",
              "      <td>181307.054265</td>\n",
              "      <td>7516.929699</td>\n",
              "      <td>39.625994</td>\n",
              "      <td>71.999866</td>\n",
              "      <td>1.663101e+04</td>\n",
              "      <td>35.536888</td>\n",
              "      <td>8.050035</td>\n",
              "      <td>0.004849</td>\n",
              "      <td>0.003402</td>\n",
              "      <td>-0.003675</td>\n",
              "    </tr>\n",
              "    <tr>\n",
              "      <th>std</th>\n",
              "      <td>81766.350702</td>\n",
              "      <td>8724.771640</td>\n",
              "      <td>62.398958</td>\n",
              "      <td>145.854135</td>\n",
              "      <td>3.147982e+04</td>\n",
              "      <td>42.461073</td>\n",
              "      <td>11.398282</td>\n",
              "      <td>1.002158</td>\n",
              "      <td>1.002778</td>\n",
              "      <td>1.005259</td>\n",
              "    </tr>\n",
              "    <tr>\n",
              "      <th>min</th>\n",
              "      <td>18284.000000</td>\n",
              "      <td>1.000000</td>\n",
              "      <td>0.000000</td>\n",
              "      <td>0.000000</td>\n",
              "      <td>3.000000e+00</td>\n",
              "      <td>0.000000</td>\n",
              "      <td>0.000000</td>\n",
              "      <td>-6.615254</td>\n",
              "      <td>-4.137662</td>\n",
              "      <td>-4.161967</td>\n",
              "    </tr>\n",
              "    <tr>\n",
              "      <th>25%</th>\n",
              "      <td>115565.000000</td>\n",
              "      <td>2179.000000</td>\n",
              "      <td>7.000000</td>\n",
              "      <td>8.000000</td>\n",
              "      <td>2.100000e+03</td>\n",
              "      <td>11.000000</td>\n",
              "      <td>2.000000</td>\n",
              "      <td>-0.706552</td>\n",
              "      <td>-0.695780</td>\n",
              "      <td>-0.633775</td>\n",
              "    </tr>\n",
              "    <tr>\n",
              "      <th>50%</th>\n",
              "      <td>182666.000000</td>\n",
              "      <td>4949.000000</td>\n",
              "      <td>19.000000</td>\n",
              "      <td>27.000000</td>\n",
              "      <td>7.600000e+03</td>\n",
              "      <td>22.000000</td>\n",
              "      <td>5.000000</td>\n",
              "      <td>-0.020934</td>\n",
              "      <td>0.007022</td>\n",
              "      <td>0.072082</td>\n",
              "    </tr>\n",
              "    <tr>\n",
              "      <th>75%</th>\n",
              "      <td>257401.000000</td>\n",
              "      <td>9858.000000</td>\n",
              "      <td>48.000000</td>\n",
              "      <td>78.000000</td>\n",
              "      <td>1.870000e+04</td>\n",
              "      <td>45.000000</td>\n",
              "      <td>10.000000</td>\n",
              "      <td>0.682689</td>\n",
              "      <td>0.708778</td>\n",
              "      <td>0.697072</td>\n",
              "    </tr>\n",
              "    <tr>\n",
              "      <th>max</th>\n",
              "      <td>314088.000000</td>\n",
              "      <td>352471.000000</td>\n",
              "      <td>2266.000000</td>\n",
              "      <td>8718.000000</td>\n",
              "      <td>1.730000e+06</td>\n",
              "      <td>1466.000000</td>\n",
              "      <td>445.000000</td>\n",
              "      <td>5.182821</td>\n",
              "      <td>4.872866</td>\n",
              "      <td>3.900973</td>\n",
              "    </tr>\n",
              "  </tbody>\n",
              "</table>\n",
              "</div>\n",
              "    <div class=\"colab-df-buttons\">\n",
              "\n",
              "  <div class=\"colab-df-container\">\n",
              "    <button class=\"colab-df-convert\" onclick=\"convertToInteractive('df-490c27b7-4a01-48f0-af34-a0bf2e5d0161')\"\n",
              "            title=\"Convert this dataframe to an interactive table.\"\n",
              "            style=\"display:none;\">\n",
              "\n",
              "  <svg xmlns=\"http://www.w3.org/2000/svg\" height=\"24px\" viewBox=\"0 -960 960 960\">\n",
              "    <path d=\"M120-120v-720h720v720H120Zm60-500h600v-160H180v160Zm220 220h160v-160H400v160Zm0 220h160v-160H400v160ZM180-400h160v-160H180v160Zm440 0h160v-160H620v160ZM180-180h160v-160H180v160Zm440 0h160v-160H620v160Z\"/>\n",
              "  </svg>\n",
              "    </button>\n",
              "\n",
              "  <style>\n",
              "    .colab-df-container {\n",
              "      display:flex;\n",
              "      gap: 12px;\n",
              "    }\n",
              "\n",
              "    .colab-df-convert {\n",
              "      background-color: #E8F0FE;\n",
              "      border: none;\n",
              "      border-radius: 50%;\n",
              "      cursor: pointer;\n",
              "      display: none;\n",
              "      fill: #1967D2;\n",
              "      height: 32px;\n",
              "      padding: 0 0 0 0;\n",
              "      width: 32px;\n",
              "    }\n",
              "\n",
              "    .colab-df-convert:hover {\n",
              "      background-color: #E2EBFA;\n",
              "      box-shadow: 0px 1px 2px rgba(60, 64, 67, 0.3), 0px 1px 3px 1px rgba(60, 64, 67, 0.15);\n",
              "      fill: #174EA6;\n",
              "    }\n",
              "\n",
              "    .colab-df-buttons div {\n",
              "      margin-bottom: 4px;\n",
              "    }\n",
              "\n",
              "    [theme=dark] .colab-df-convert {\n",
              "      background-color: #3B4455;\n",
              "      fill: #D2E3FC;\n",
              "    }\n",
              "\n",
              "    [theme=dark] .colab-df-convert:hover {\n",
              "      background-color: #434B5C;\n",
              "      box-shadow: 0px 1px 3px 1px rgba(0, 0, 0, 0.15);\n",
              "      filter: drop-shadow(0px 1px 2px rgba(0, 0, 0, 0.3));\n",
              "      fill: #FFFFFF;\n",
              "    }\n",
              "  </style>\n",
              "\n",
              "    <script>\n",
              "      const buttonEl =\n",
              "        document.querySelector('#df-490c27b7-4a01-48f0-af34-a0bf2e5d0161 button.colab-df-convert');\n",
              "      buttonEl.style.display =\n",
              "        google.colab.kernel.accessAllowed ? 'block' : 'none';\n",
              "\n",
              "      async function convertToInteractive(key) {\n",
              "        const element = document.querySelector('#df-490c27b7-4a01-48f0-af34-a0bf2e5d0161');\n",
              "        const dataTable =\n",
              "          await google.colab.kernel.invokeFunction('convertToInteractive',\n",
              "                                                    [key], {});\n",
              "        if (!dataTable) return;\n",
              "\n",
              "        const docLinkHtml = 'Like what you see? Visit the ' +\n",
              "          '<a target=\"_blank\" href=https://colab.research.google.com/notebooks/data_table.ipynb>data table notebook</a>'\n",
              "          + ' to learn more about interactive tables.';\n",
              "        element.innerHTML = '';\n",
              "        dataTable['output_type'] = 'display_data';\n",
              "        await google.colab.output.renderOutput(dataTable, element);\n",
              "        const docLink = document.createElement('div');\n",
              "        docLink.innerHTML = docLinkHtml;\n",
              "        element.appendChild(docLink);\n",
              "      }\n",
              "    </script>\n",
              "  </div>\n",
              "\n",
              "\n",
              "<div id=\"df-94097f4c-24bf-4280-b5f9-daec43821819\">\n",
              "  <button class=\"colab-df-quickchart\" onclick=\"quickchart('df-94097f4c-24bf-4280-b5f9-daec43821819')\"\n",
              "            title=\"Suggest charts\"\n",
              "            style=\"display:none;\">\n",
              "\n",
              "<svg xmlns=\"http://www.w3.org/2000/svg\" height=\"24px\"viewBox=\"0 0 24 24\"\n",
              "     width=\"24px\">\n",
              "    <g>\n",
              "        <path d=\"M19 3H5c-1.1 0-2 .9-2 2v14c0 1.1.9 2 2 2h14c1.1 0 2-.9 2-2V5c0-1.1-.9-2-2-2zM9 17H7v-7h2v7zm4 0h-2V7h2v10zm4 0h-2v-4h2v4z\"/>\n",
              "    </g>\n",
              "</svg>\n",
              "  </button>\n",
              "\n",
              "<style>\n",
              "  .colab-df-quickchart {\n",
              "      --bg-color: #E8F0FE;\n",
              "      --fill-color: #1967D2;\n",
              "      --hover-bg-color: #E2EBFA;\n",
              "      --hover-fill-color: #174EA6;\n",
              "      --disabled-fill-color: #AAA;\n",
              "      --disabled-bg-color: #DDD;\n",
              "  }\n",
              "\n",
              "  [theme=dark] .colab-df-quickchart {\n",
              "      --bg-color: #3B4455;\n",
              "      --fill-color: #D2E3FC;\n",
              "      --hover-bg-color: #434B5C;\n",
              "      --hover-fill-color: #FFFFFF;\n",
              "      --disabled-bg-color: #3B4455;\n",
              "      --disabled-fill-color: #666;\n",
              "  }\n",
              "\n",
              "  .colab-df-quickchart {\n",
              "    background-color: var(--bg-color);\n",
              "    border: none;\n",
              "    border-radius: 50%;\n",
              "    cursor: pointer;\n",
              "    display: none;\n",
              "    fill: var(--fill-color);\n",
              "    height: 32px;\n",
              "    padding: 0;\n",
              "    width: 32px;\n",
              "  }\n",
              "\n",
              "  .colab-df-quickchart:hover {\n",
              "    background-color: var(--hover-bg-color);\n",
              "    box-shadow: 0 1px 2px rgba(60, 64, 67, 0.3), 0 1px 3px 1px rgba(60, 64, 67, 0.15);\n",
              "    fill: var(--button-hover-fill-color);\n",
              "  }\n",
              "\n",
              "  .colab-df-quickchart-complete:disabled,\n",
              "  .colab-df-quickchart-complete:disabled:hover {\n",
              "    background-color: var(--disabled-bg-color);\n",
              "    fill: var(--disabled-fill-color);\n",
              "    box-shadow: none;\n",
              "  }\n",
              "\n",
              "  .colab-df-spinner {\n",
              "    border: 2px solid var(--fill-color);\n",
              "    border-color: transparent;\n",
              "    border-bottom-color: var(--fill-color);\n",
              "    animation:\n",
              "      spin 1s steps(1) infinite;\n",
              "  }\n",
              "\n",
              "  @keyframes spin {\n",
              "    0% {\n",
              "      border-color: transparent;\n",
              "      border-bottom-color: var(--fill-color);\n",
              "      border-left-color: var(--fill-color);\n",
              "    }\n",
              "    20% {\n",
              "      border-color: transparent;\n",
              "      border-left-color: var(--fill-color);\n",
              "      border-top-color: var(--fill-color);\n",
              "    }\n",
              "    30% {\n",
              "      border-color: transparent;\n",
              "      border-left-color: var(--fill-color);\n",
              "      border-top-color: var(--fill-color);\n",
              "      border-right-color: var(--fill-color);\n",
              "    }\n",
              "    40% {\n",
              "      border-color: transparent;\n",
              "      border-right-color: var(--fill-color);\n",
              "      border-top-color: var(--fill-color);\n",
              "    }\n",
              "    60% {\n",
              "      border-color: transparent;\n",
              "      border-right-color: var(--fill-color);\n",
              "    }\n",
              "    80% {\n",
              "      border-color: transparent;\n",
              "      border-right-color: var(--fill-color);\n",
              "      border-bottom-color: var(--fill-color);\n",
              "    }\n",
              "    90% {\n",
              "      border-color: transparent;\n",
              "      border-bottom-color: var(--fill-color);\n",
              "    }\n",
              "  }\n",
              "</style>\n",
              "\n",
              "  <script>\n",
              "    async function quickchart(key) {\n",
              "      const quickchartButtonEl =\n",
              "        document.querySelector('#' + key + ' button');\n",
              "      quickchartButtonEl.disabled = true;  // To prevent multiple clicks.\n",
              "      quickchartButtonEl.classList.add('colab-df-spinner');\n",
              "      try {\n",
              "        const charts = await google.colab.kernel.invokeFunction(\n",
              "            'suggestCharts', [key], {});\n",
              "      } catch (error) {\n",
              "        console.error('Error during call to suggestCharts:', error);\n",
              "      }\n",
              "      quickchartButtonEl.classList.remove('colab-df-spinner');\n",
              "      quickchartButtonEl.classList.add('colab-df-quickchart-complete');\n",
              "    }\n",
              "    (() => {\n",
              "      let quickchartButtonEl =\n",
              "        document.querySelector('#df-94097f4c-24bf-4280-b5f9-daec43821819 button');\n",
              "      quickchartButtonEl.style.display =\n",
              "        google.colab.kernel.accessAllowed ? 'block' : 'none';\n",
              "    })();\n",
              "  </script>\n",
              "</div>\n",
              "    </div>\n",
              "  </div>\n"
            ],
            "application/vnd.google.colaboratory.intrinsic+json": {
              "type": "dataframe",
              "summary": "{\n  \"name\": \"df\",\n  \"rows\": 8,\n  \"fields\": [\n    {\n      \"column\": \"post_id\",\n      \"properties\": {\n        \"dtype\": \"number\",\n        \"std\": 94899.72033876138,\n        \"min\": 18284.0,\n        \"max\": 314088.0,\n        \"num_unique_values\": 8,\n        \"samples\": [\n          181307.0542654152,\n          182666.0,\n          134137.0\n        ],\n        \"semantic_type\": \"\",\n        \"description\": \"\"\n      }\n    },\n    {\n      \"column\": \"content_len\",\n      \"properties\": {\n        \"dtype\": \"number\",\n        \"std\": 124618.74015336842,\n        \"min\": 1.0,\n        \"max\": 352471.0,\n        \"num_unique_values\": 8,\n        \"samples\": [\n          7516.92969874084,\n          4949.0,\n          134137.0\n        ],\n        \"semantic_type\": \"\",\n        \"description\": \"\"\n      }\n    },\n    {\n      \"column\": \"comments\",\n      \"properties\": {\n        \"dtype\": \"number\",\n        \"std\": 47307.729579431274,\n        \"min\": 0.0,\n        \"max\": 134137.0,\n        \"num_unique_values\": 8,\n        \"samples\": [\n          39.625994319240775,\n          19.0,\n          134137.0\n        ],\n        \"semantic_type\": \"\",\n        \"description\": \"\"\n      }\n    },\n    {\n      \"column\": \"favs\",\n      \"properties\": {\n        \"dtype\": \"number\",\n        \"std\": 47065.301184577,\n        \"min\": 0.0,\n        \"max\": 134137.0,\n        \"num_unique_values\": 8,\n        \"samples\": [\n          71.99986580883723,\n          27.0,\n          134137.0\n        ],\n        \"semantic_type\": \"\",\n        \"description\": \"\"\n      }\n    },\n    {\n      \"column\": \"views\",\n      \"properties\": {\n        \"dtype\": \"number\",\n        \"std\": 602590.4149797519,\n        \"min\": 3.0,\n        \"max\": 1730000.0,\n        \"num_unique_values\": 8,\n        \"samples\": [\n          16631.01308363837,\n          7600.0,\n          134137.0\n        ],\n        \"semantic_type\": \"\",\n        \"description\": \"\"\n      }\n    },\n    {\n      \"column\": \"votes_plus\",\n      \"properties\": {\n        \"dtype\": \"number\",\n        \"std\": 47143.484413778184,\n        \"min\": 0.0,\n        \"max\": 133566.0,\n        \"num_unique_values\": 8,\n        \"samples\": [\n          35.53688813021278,\n          22.0,\n          133566.0\n        ],\n        \"semantic_type\": \"\",\n        \"description\": \"\"\n      }\n    },\n    {\n      \"column\": \"votes_minus\",\n      \"properties\": {\n        \"dtype\": \"number\",\n        \"std\": 47198.64541741708,\n        \"min\": 0.0,\n        \"max\": 133566.0,\n        \"num_unique_values\": 8,\n        \"samples\": [\n          8.050035188595901,\n          5.0,\n          133566.0\n        ],\n        \"semantic_type\": \"\",\n        \"description\": \"\"\n      }\n    },\n    {\n      \"column\": \"views_lognorm\",\n      \"properties\": {\n        \"dtype\": \"number\",\n        \"std\": 47424.61501314601,\n        \"min\": -6.61525350909,\n        \"max\": 134137.0,\n        \"num_unique_values\": 8,\n        \"samples\": [\n          0.004848658122344507,\n          -0.0209343976274,\n          134137.0\n        ],\n        \"semantic_type\": \"\",\n        \"description\": \"\"\n      }\n    },\n    {\n      \"column\": \"favs_lognorm\",\n      \"properties\": {\n        \"dtype\": \"number\",\n        \"std\": 47424.502253599545,\n        \"min\": -4.13766249941,\n        \"max\": 134137.0,\n        \"num_unique_values\": 8,\n        \"samples\": [\n          0.003402153418709079,\n          0.00702181175456,\n          134137.0\n        ],\n        \"semantic_type\": \"\",\n        \"description\": \"\"\n      }\n    },\n    {\n      \"column\": \"comments_lognorm\",\n      \"properties\": {\n        \"dtype\": \"number\",\n        \"std\": 47424.546962672764,\n        \"min\": -4.16196746411,\n        \"max\": 134137.0,\n        \"num_unique_values\": 8,\n        \"samples\": [\n          -0.0036751494880241475,\n          0.0720818674417,\n          134137.0\n        ],\n        \"semantic_type\": \"\",\n        \"description\": \"\"\n      }\n    }\n  ]\n}"
            }
          },
          "metadata": {},
          "execution_count": 5
        }
      ],
      "source": [
        "# Статистическая сводка\n",
        "df.describe()"
      ]
    },
    {
      "cell_type": "code",
      "execution_count": null,
      "metadata": {
        "colab": {
          "base_uri": "https://localhost:8080/",
          "height": 175
        },
        "id": "nVlW_U8zqoBn",
        "outputId": "7af40b45-6277-41ff-9bbf-ceaa10a50850"
      },
      "outputs": [
        {
          "output_type": "execute_result",
          "data": {
            "text/plain": [
              "                                     url        domain            published  \\\n",
              "count                             134137        134137               134137   \n",
              "unique                            134137             2               130291   \n",
              "top     https://habrahabr.ru/post/18284/  habrahabr.ru  2011-06-14 15:52:00   \n",
              "freq                                   1         97048                   39   \n",
              "\n",
              "         author     flow                                        title  \n",
              "count     97657    97048                                       134137  \n",
              "unique    22077        6                                       133628  \n",
              "top     @alizar  develop  Интересные события, произошедшие в выходные  \n",
              "freq       5292    53318                                           56  "
            ],
            "text/html": [
              "\n",
              "  <div id=\"df-d8b12a5d-c2ff-48dc-9a31-529feec01a01\" class=\"colab-df-container\">\n",
              "    <div>\n",
              "<style scoped>\n",
              "    .dataframe tbody tr th:only-of-type {\n",
              "        vertical-align: middle;\n",
              "    }\n",
              "\n",
              "    .dataframe tbody tr th {\n",
              "        vertical-align: top;\n",
              "    }\n",
              "\n",
              "    .dataframe thead th {\n",
              "        text-align: right;\n",
              "    }\n",
              "</style>\n",
              "<table border=\"1\" class=\"dataframe\">\n",
              "  <thead>\n",
              "    <tr style=\"text-align: right;\">\n",
              "      <th></th>\n",
              "      <th>url</th>\n",
              "      <th>domain</th>\n",
              "      <th>published</th>\n",
              "      <th>author</th>\n",
              "      <th>flow</th>\n",
              "      <th>title</th>\n",
              "    </tr>\n",
              "  </thead>\n",
              "  <tbody>\n",
              "    <tr>\n",
              "      <th>count</th>\n",
              "      <td>134137</td>\n",
              "      <td>134137</td>\n",
              "      <td>134137</td>\n",
              "      <td>97657</td>\n",
              "      <td>97048</td>\n",
              "      <td>134137</td>\n",
              "    </tr>\n",
              "    <tr>\n",
              "      <th>unique</th>\n",
              "      <td>134137</td>\n",
              "      <td>2</td>\n",
              "      <td>130291</td>\n",
              "      <td>22077</td>\n",
              "      <td>6</td>\n",
              "      <td>133628</td>\n",
              "    </tr>\n",
              "    <tr>\n",
              "      <th>top</th>\n",
              "      <td>https://habrahabr.ru/post/18284/</td>\n",
              "      <td>habrahabr.ru</td>\n",
              "      <td>2011-06-14 15:52:00</td>\n",
              "      <td>@alizar</td>\n",
              "      <td>develop</td>\n",
              "      <td>Интересные события, произошедшие в выходные</td>\n",
              "    </tr>\n",
              "    <tr>\n",
              "      <th>freq</th>\n",
              "      <td>1</td>\n",
              "      <td>97048</td>\n",
              "      <td>39</td>\n",
              "      <td>5292</td>\n",
              "      <td>53318</td>\n",
              "      <td>56</td>\n",
              "    </tr>\n",
              "  </tbody>\n",
              "</table>\n",
              "</div>\n",
              "    <div class=\"colab-df-buttons\">\n",
              "\n",
              "  <div class=\"colab-df-container\">\n",
              "    <button class=\"colab-df-convert\" onclick=\"convertToInteractive('df-d8b12a5d-c2ff-48dc-9a31-529feec01a01')\"\n",
              "            title=\"Convert this dataframe to an interactive table.\"\n",
              "            style=\"display:none;\">\n",
              "\n",
              "  <svg xmlns=\"http://www.w3.org/2000/svg\" height=\"24px\" viewBox=\"0 -960 960 960\">\n",
              "    <path d=\"M120-120v-720h720v720H120Zm60-500h600v-160H180v160Zm220 220h160v-160H400v160Zm0 220h160v-160H400v160ZM180-400h160v-160H180v160Zm440 0h160v-160H620v160ZM180-180h160v-160H180v160Zm440 0h160v-160H620v160Z\"/>\n",
              "  </svg>\n",
              "    </button>\n",
              "\n",
              "  <style>\n",
              "    .colab-df-container {\n",
              "      display:flex;\n",
              "      gap: 12px;\n",
              "    }\n",
              "\n",
              "    .colab-df-convert {\n",
              "      background-color: #E8F0FE;\n",
              "      border: none;\n",
              "      border-radius: 50%;\n",
              "      cursor: pointer;\n",
              "      display: none;\n",
              "      fill: #1967D2;\n",
              "      height: 32px;\n",
              "      padding: 0 0 0 0;\n",
              "      width: 32px;\n",
              "    }\n",
              "\n",
              "    .colab-df-convert:hover {\n",
              "      background-color: #E2EBFA;\n",
              "      box-shadow: 0px 1px 2px rgba(60, 64, 67, 0.3), 0px 1px 3px 1px rgba(60, 64, 67, 0.15);\n",
              "      fill: #174EA6;\n",
              "    }\n",
              "\n",
              "    .colab-df-buttons div {\n",
              "      margin-bottom: 4px;\n",
              "    }\n",
              "\n",
              "    [theme=dark] .colab-df-convert {\n",
              "      background-color: #3B4455;\n",
              "      fill: #D2E3FC;\n",
              "    }\n",
              "\n",
              "    [theme=dark] .colab-df-convert:hover {\n",
              "      background-color: #434B5C;\n",
              "      box-shadow: 0px 1px 3px 1px rgba(0, 0, 0, 0.15);\n",
              "      filter: drop-shadow(0px 1px 2px rgba(0, 0, 0, 0.3));\n",
              "      fill: #FFFFFF;\n",
              "    }\n",
              "  </style>\n",
              "\n",
              "    <script>\n",
              "      const buttonEl =\n",
              "        document.querySelector('#df-d8b12a5d-c2ff-48dc-9a31-529feec01a01 button.colab-df-convert');\n",
              "      buttonEl.style.display =\n",
              "        google.colab.kernel.accessAllowed ? 'block' : 'none';\n",
              "\n",
              "      async function convertToInteractive(key) {\n",
              "        const element = document.querySelector('#df-d8b12a5d-c2ff-48dc-9a31-529feec01a01');\n",
              "        const dataTable =\n",
              "          await google.colab.kernel.invokeFunction('convertToInteractive',\n",
              "                                                    [key], {});\n",
              "        if (!dataTable) return;\n",
              "\n",
              "        const docLinkHtml = 'Like what you see? Visit the ' +\n",
              "          '<a target=\"_blank\" href=https://colab.research.google.com/notebooks/data_table.ipynb>data table notebook</a>'\n",
              "          + ' to learn more about interactive tables.';\n",
              "        element.innerHTML = '';\n",
              "        dataTable['output_type'] = 'display_data';\n",
              "        await google.colab.output.renderOutput(dataTable, element);\n",
              "        const docLink = document.createElement('div');\n",
              "        docLink.innerHTML = docLinkHtml;\n",
              "        element.appendChild(docLink);\n",
              "      }\n",
              "    </script>\n",
              "  </div>\n",
              "\n",
              "\n",
              "<div id=\"df-c4f3b5aa-ad30-4dd5-982f-242600f0d6c5\">\n",
              "  <button class=\"colab-df-quickchart\" onclick=\"quickchart('df-c4f3b5aa-ad30-4dd5-982f-242600f0d6c5')\"\n",
              "            title=\"Suggest charts\"\n",
              "            style=\"display:none;\">\n",
              "\n",
              "<svg xmlns=\"http://www.w3.org/2000/svg\" height=\"24px\"viewBox=\"0 0 24 24\"\n",
              "     width=\"24px\">\n",
              "    <g>\n",
              "        <path d=\"M19 3H5c-1.1 0-2 .9-2 2v14c0 1.1.9 2 2 2h14c1.1 0 2-.9 2-2V5c0-1.1-.9-2-2-2zM9 17H7v-7h2v7zm4 0h-2V7h2v10zm4 0h-2v-4h2v4z\"/>\n",
              "    </g>\n",
              "</svg>\n",
              "  </button>\n",
              "\n",
              "<style>\n",
              "  .colab-df-quickchart {\n",
              "      --bg-color: #E8F0FE;\n",
              "      --fill-color: #1967D2;\n",
              "      --hover-bg-color: #E2EBFA;\n",
              "      --hover-fill-color: #174EA6;\n",
              "      --disabled-fill-color: #AAA;\n",
              "      --disabled-bg-color: #DDD;\n",
              "  }\n",
              "\n",
              "  [theme=dark] .colab-df-quickchart {\n",
              "      --bg-color: #3B4455;\n",
              "      --fill-color: #D2E3FC;\n",
              "      --hover-bg-color: #434B5C;\n",
              "      --hover-fill-color: #FFFFFF;\n",
              "      --disabled-bg-color: #3B4455;\n",
              "      --disabled-fill-color: #666;\n",
              "  }\n",
              "\n",
              "  .colab-df-quickchart {\n",
              "    background-color: var(--bg-color);\n",
              "    border: none;\n",
              "    border-radius: 50%;\n",
              "    cursor: pointer;\n",
              "    display: none;\n",
              "    fill: var(--fill-color);\n",
              "    height: 32px;\n",
              "    padding: 0;\n",
              "    width: 32px;\n",
              "  }\n",
              "\n",
              "  .colab-df-quickchart:hover {\n",
              "    background-color: var(--hover-bg-color);\n",
              "    box-shadow: 0 1px 2px rgba(60, 64, 67, 0.3), 0 1px 3px 1px rgba(60, 64, 67, 0.15);\n",
              "    fill: var(--button-hover-fill-color);\n",
              "  }\n",
              "\n",
              "  .colab-df-quickchart-complete:disabled,\n",
              "  .colab-df-quickchart-complete:disabled:hover {\n",
              "    background-color: var(--disabled-bg-color);\n",
              "    fill: var(--disabled-fill-color);\n",
              "    box-shadow: none;\n",
              "  }\n",
              "\n",
              "  .colab-df-spinner {\n",
              "    border: 2px solid var(--fill-color);\n",
              "    border-color: transparent;\n",
              "    border-bottom-color: var(--fill-color);\n",
              "    animation:\n",
              "      spin 1s steps(1) infinite;\n",
              "  }\n",
              "\n",
              "  @keyframes spin {\n",
              "    0% {\n",
              "      border-color: transparent;\n",
              "      border-bottom-color: var(--fill-color);\n",
              "      border-left-color: var(--fill-color);\n",
              "    }\n",
              "    20% {\n",
              "      border-color: transparent;\n",
              "      border-left-color: var(--fill-color);\n",
              "      border-top-color: var(--fill-color);\n",
              "    }\n",
              "    30% {\n",
              "      border-color: transparent;\n",
              "      border-left-color: var(--fill-color);\n",
              "      border-top-color: var(--fill-color);\n",
              "      border-right-color: var(--fill-color);\n",
              "    }\n",
              "    40% {\n",
              "      border-color: transparent;\n",
              "      border-right-color: var(--fill-color);\n",
              "      border-top-color: var(--fill-color);\n",
              "    }\n",
              "    60% {\n",
              "      border-color: transparent;\n",
              "      border-right-color: var(--fill-color);\n",
              "    }\n",
              "    80% {\n",
              "      border-color: transparent;\n",
              "      border-right-color: var(--fill-color);\n",
              "      border-bottom-color: var(--fill-color);\n",
              "    }\n",
              "    90% {\n",
              "      border-color: transparent;\n",
              "      border-bottom-color: var(--fill-color);\n",
              "    }\n",
              "  }\n",
              "</style>\n",
              "\n",
              "  <script>\n",
              "    async function quickchart(key) {\n",
              "      const quickchartButtonEl =\n",
              "        document.querySelector('#' + key + ' button');\n",
              "      quickchartButtonEl.disabled = true;  // To prevent multiple clicks.\n",
              "      quickchartButtonEl.classList.add('colab-df-spinner');\n",
              "      try {\n",
              "        const charts = await google.colab.kernel.invokeFunction(\n",
              "            'suggestCharts', [key], {});\n",
              "      } catch (error) {\n",
              "        console.error('Error during call to suggestCharts:', error);\n",
              "      }\n",
              "      quickchartButtonEl.classList.remove('colab-df-spinner');\n",
              "      quickchartButtonEl.classList.add('colab-df-quickchart-complete');\n",
              "    }\n",
              "    (() => {\n",
              "      let quickchartButtonEl =\n",
              "        document.querySelector('#df-c4f3b5aa-ad30-4dd5-982f-242600f0d6c5 button');\n",
              "      quickchartButtonEl.style.display =\n",
              "        google.colab.kernel.accessAllowed ? 'block' : 'none';\n",
              "    })();\n",
              "  </script>\n",
              "</div>\n",
              "    </div>\n",
              "  </div>\n"
            ],
            "application/vnd.google.colaboratory.intrinsic+json": {
              "type": "dataframe",
              "summary": "{\n  \"name\": \"df\",\n  \"rows\": 4,\n  \"fields\": [\n    {\n      \"column\": \"url\",\n      \"properties\": {\n        \"dtype\": \"string\",\n        \"num_unique_values\": 3,\n        \"samples\": [\n          \"134137\",\n          \"https://habrahabr.ru/post/18284/\",\n          \"1\"\n        ],\n        \"semantic_type\": \"\",\n        \"description\": \"\"\n      }\n    },\n    {\n      \"column\": \"domain\",\n      \"properties\": {\n        \"dtype\": \"string\",\n        \"num_unique_values\": 4,\n        \"samples\": [\n          2,\n          \"97048\",\n          \"134137\"\n        ],\n        \"semantic_type\": \"\",\n        \"description\": \"\"\n      }\n    },\n    {\n      \"column\": \"published\",\n      \"properties\": {\n        \"dtype\": \"date\",\n        \"min\": \"1970-01-01 00:00:00.000000039\",\n        \"max\": \"2011-06-14 15:52:00\",\n        \"num_unique_values\": 4,\n        \"samples\": [\n          130291,\n          \"39\",\n          \"134137\"\n        ],\n        \"semantic_type\": \"\",\n        \"description\": \"\"\n      }\n    },\n    {\n      \"column\": \"author\",\n      \"properties\": {\n        \"dtype\": \"string\",\n        \"num_unique_values\": 4,\n        \"samples\": [\n          22077,\n          \"5292\",\n          \"97657\"\n        ],\n        \"semantic_type\": \"\",\n        \"description\": \"\"\n      }\n    },\n    {\n      \"column\": \"flow\",\n      \"properties\": {\n        \"dtype\": \"string\",\n        \"num_unique_values\": 4,\n        \"samples\": [\n          6,\n          \"53318\",\n          \"97048\"\n        ],\n        \"semantic_type\": \"\",\n        \"description\": \"\"\n      }\n    },\n    {\n      \"column\": \"title\",\n      \"properties\": {\n        \"dtype\": \"string\",\n        \"num_unique_values\": 4,\n        \"samples\": [\n          133628,\n          \"56\",\n          \"134137\"\n        ],\n        \"semantic_type\": \"\",\n        \"description\": \"\"\n      }\n    }\n  ]\n}"
            }
          },
          "metadata": {},
          "execution_count": 6
        }
      ],
      "source": [
        "df.describe(include='object')"
      ]
    },
    {
      "cell_type": "code",
      "execution_count": null,
      "metadata": {
        "colab": {
          "base_uri": "https://localhost:8080/",
          "height": 466
        },
        "id": "Khvq24n8n9Kt",
        "outputId": "d0cf7c0c-fe55-4e25-8d7d-3eafe7d15ae0"
      },
      "outputs": [
        {
          "output_type": "execute_result",
          "data": {
            "text/plain": [
              "                                     url        domain        post_id  \\\n",
              "count                             134137        134137  134137.000000   \n",
              "unique                            134137             2            NaN   \n",
              "top     https://habrahabr.ru/post/18284/  habrahabr.ru            NaN   \n",
              "freq                                   1         97048            NaN   \n",
              "mean                                 NaN           NaN  181307.054265   \n",
              "std                                  NaN           NaN   81766.350702   \n",
              "min                                  NaN           NaN   18284.000000   \n",
              "25%                                  NaN           NaN  115565.000000   \n",
              "50%                                  NaN           NaN  182666.000000   \n",
              "75%                                  NaN           NaN  257401.000000   \n",
              "max                                  NaN           NaN  314088.000000   \n",
              "\n",
              "                  published   author     flow polling    content_len  \\\n",
              "count                134137    97657    97048  134137  134137.000000   \n",
              "unique               130291    22077        6       2            NaN   \n",
              "top     2011-06-14 15:52:00  @alizar  develop   False            NaN   \n",
              "freq                     39     5292    53318  129412            NaN   \n",
              "mean                    NaN      NaN      NaN     NaN    7516.929699   \n",
              "std                     NaN      NaN      NaN     NaN    8724.771640   \n",
              "min                     NaN      NaN      NaN     NaN       1.000000   \n",
              "25%                     NaN      NaN      NaN     NaN    2179.000000   \n",
              "50%                     NaN      NaN      NaN     NaN    4949.000000   \n",
              "75%                     NaN      NaN      NaN     NaN    9858.000000   \n",
              "max                     NaN      NaN      NaN     NaN  352471.000000   \n",
              "\n",
              "                                              title       comments  \\\n",
              "count                                        134137  134137.000000   \n",
              "unique                                       133628            NaN   \n",
              "top     Интересные события, произошедшие в выходные            NaN   \n",
              "freq                                             56            NaN   \n",
              "mean                                            NaN      39.625994   \n",
              "std                                             NaN      62.398958   \n",
              "min                                             NaN       0.000000   \n",
              "25%                                             NaN       7.000000   \n",
              "50%                                             NaN      19.000000   \n",
              "75%                                             NaN      48.000000   \n",
              "max                                             NaN    2266.000000   \n",
              "\n",
              "                 favs         views     votes_plus    votes_minus  \\\n",
              "count   134137.000000  1.341370e+05  133566.000000  133566.000000   \n",
              "unique            NaN           NaN            NaN            NaN   \n",
              "top               NaN           NaN            NaN            NaN   \n",
              "freq              NaN           NaN            NaN            NaN   \n",
              "mean        71.999866  1.663101e+04      35.536888       8.050035   \n",
              "std        145.854135  3.147982e+04      42.461073      11.398282   \n",
              "min          0.000000  3.000000e+00       0.000000       0.000000   \n",
              "25%          8.000000  2.100000e+03      11.000000       2.000000   \n",
              "50%         27.000000  7.600000e+03      22.000000       5.000000   \n",
              "75%         78.000000  1.870000e+04      45.000000      10.000000   \n",
              "max       8718.000000  1.730000e+06    1466.000000     445.000000   \n",
              "\n",
              "        views_lognorm   favs_lognorm  comments_lognorm  \n",
              "count   134137.000000  134137.000000     134137.000000  \n",
              "unique            NaN            NaN               NaN  \n",
              "top               NaN            NaN               NaN  \n",
              "freq              NaN            NaN               NaN  \n",
              "mean         0.004849       0.003402         -0.003675  \n",
              "std          1.002158       1.002778          1.005259  \n",
              "min         -6.615254      -4.137662         -4.161967  \n",
              "25%         -0.706552      -0.695780         -0.633775  \n",
              "50%         -0.020934       0.007022          0.072082  \n",
              "75%          0.682689       0.708778          0.697072  \n",
              "max          5.182821       4.872866          3.900973  "
            ],
            "text/html": [
              "\n",
              "  <div id=\"df-30e29df1-b6a8-4ec7-8c93-452d2aca59f2\" class=\"colab-df-container\">\n",
              "    <div>\n",
              "<style scoped>\n",
              "    .dataframe tbody tr th:only-of-type {\n",
              "        vertical-align: middle;\n",
              "    }\n",
              "\n",
              "    .dataframe tbody tr th {\n",
              "        vertical-align: top;\n",
              "    }\n",
              "\n",
              "    .dataframe thead th {\n",
              "        text-align: right;\n",
              "    }\n",
              "</style>\n",
              "<table border=\"1\" class=\"dataframe\">\n",
              "  <thead>\n",
              "    <tr style=\"text-align: right;\">\n",
              "      <th></th>\n",
              "      <th>url</th>\n",
              "      <th>domain</th>\n",
              "      <th>post_id</th>\n",
              "      <th>published</th>\n",
              "      <th>author</th>\n",
              "      <th>flow</th>\n",
              "      <th>polling</th>\n",
              "      <th>content_len</th>\n",
              "      <th>title</th>\n",
              "      <th>comments</th>\n",
              "      <th>favs</th>\n",
              "      <th>views</th>\n",
              "      <th>votes_plus</th>\n",
              "      <th>votes_minus</th>\n",
              "      <th>views_lognorm</th>\n",
              "      <th>favs_lognorm</th>\n",
              "      <th>comments_lognorm</th>\n",
              "    </tr>\n",
              "  </thead>\n",
              "  <tbody>\n",
              "    <tr>\n",
              "      <th>count</th>\n",
              "      <td>134137</td>\n",
              "      <td>134137</td>\n",
              "      <td>134137.000000</td>\n",
              "      <td>134137</td>\n",
              "      <td>97657</td>\n",
              "      <td>97048</td>\n",
              "      <td>134137</td>\n",
              "      <td>134137.000000</td>\n",
              "      <td>134137</td>\n",
              "      <td>134137.000000</td>\n",
              "      <td>134137.000000</td>\n",
              "      <td>1.341370e+05</td>\n",
              "      <td>133566.000000</td>\n",
              "      <td>133566.000000</td>\n",
              "      <td>134137.000000</td>\n",
              "      <td>134137.000000</td>\n",
              "      <td>134137.000000</td>\n",
              "    </tr>\n",
              "    <tr>\n",
              "      <th>unique</th>\n",
              "      <td>134137</td>\n",
              "      <td>2</td>\n",
              "      <td>NaN</td>\n",
              "      <td>130291</td>\n",
              "      <td>22077</td>\n",
              "      <td>6</td>\n",
              "      <td>2</td>\n",
              "      <td>NaN</td>\n",
              "      <td>133628</td>\n",
              "      <td>NaN</td>\n",
              "      <td>NaN</td>\n",
              "      <td>NaN</td>\n",
              "      <td>NaN</td>\n",
              "      <td>NaN</td>\n",
              "      <td>NaN</td>\n",
              "      <td>NaN</td>\n",
              "      <td>NaN</td>\n",
              "    </tr>\n",
              "    <tr>\n",
              "      <th>top</th>\n",
              "      <td>https://habrahabr.ru/post/18284/</td>\n",
              "      <td>habrahabr.ru</td>\n",
              "      <td>NaN</td>\n",
              "      <td>2011-06-14 15:52:00</td>\n",
              "      <td>@alizar</td>\n",
              "      <td>develop</td>\n",
              "      <td>False</td>\n",
              "      <td>NaN</td>\n",
              "      <td>Интересные события, произошедшие в выходные</td>\n",
              "      <td>NaN</td>\n",
              "      <td>NaN</td>\n",
              "      <td>NaN</td>\n",
              "      <td>NaN</td>\n",
              "      <td>NaN</td>\n",
              "      <td>NaN</td>\n",
              "      <td>NaN</td>\n",
              "      <td>NaN</td>\n",
              "    </tr>\n",
              "    <tr>\n",
              "      <th>freq</th>\n",
              "      <td>1</td>\n",
              "      <td>97048</td>\n",
              "      <td>NaN</td>\n",
              "      <td>39</td>\n",
              "      <td>5292</td>\n",
              "      <td>53318</td>\n",
              "      <td>129412</td>\n",
              "      <td>NaN</td>\n",
              "      <td>56</td>\n",
              "      <td>NaN</td>\n",
              "      <td>NaN</td>\n",
              "      <td>NaN</td>\n",
              "      <td>NaN</td>\n",
              "      <td>NaN</td>\n",
              "      <td>NaN</td>\n",
              "      <td>NaN</td>\n",
              "      <td>NaN</td>\n",
              "    </tr>\n",
              "    <tr>\n",
              "      <th>mean</th>\n",
              "      <td>NaN</td>\n",
              "      <td>NaN</td>\n",
              "      <td>181307.054265</td>\n",
              "      <td>NaN</td>\n",
              "      <td>NaN</td>\n",
              "      <td>NaN</td>\n",
              "      <td>NaN</td>\n",
              "      <td>7516.929699</td>\n",
              "      <td>NaN</td>\n",
              "      <td>39.625994</td>\n",
              "      <td>71.999866</td>\n",
              "      <td>1.663101e+04</td>\n",
              "      <td>35.536888</td>\n",
              "      <td>8.050035</td>\n",
              "      <td>0.004849</td>\n",
              "      <td>0.003402</td>\n",
              "      <td>-0.003675</td>\n",
              "    </tr>\n",
              "    <tr>\n",
              "      <th>std</th>\n",
              "      <td>NaN</td>\n",
              "      <td>NaN</td>\n",
              "      <td>81766.350702</td>\n",
              "      <td>NaN</td>\n",
              "      <td>NaN</td>\n",
              "      <td>NaN</td>\n",
              "      <td>NaN</td>\n",
              "      <td>8724.771640</td>\n",
              "      <td>NaN</td>\n",
              "      <td>62.398958</td>\n",
              "      <td>145.854135</td>\n",
              "      <td>3.147982e+04</td>\n",
              "      <td>42.461073</td>\n",
              "      <td>11.398282</td>\n",
              "      <td>1.002158</td>\n",
              "      <td>1.002778</td>\n",
              "      <td>1.005259</td>\n",
              "    </tr>\n",
              "    <tr>\n",
              "      <th>min</th>\n",
              "      <td>NaN</td>\n",
              "      <td>NaN</td>\n",
              "      <td>18284.000000</td>\n",
              "      <td>NaN</td>\n",
              "      <td>NaN</td>\n",
              "      <td>NaN</td>\n",
              "      <td>NaN</td>\n",
              "      <td>1.000000</td>\n",
              "      <td>NaN</td>\n",
              "      <td>0.000000</td>\n",
              "      <td>0.000000</td>\n",
              "      <td>3.000000e+00</td>\n",
              "      <td>0.000000</td>\n",
              "      <td>0.000000</td>\n",
              "      <td>-6.615254</td>\n",
              "      <td>-4.137662</td>\n",
              "      <td>-4.161967</td>\n",
              "    </tr>\n",
              "    <tr>\n",
              "      <th>25%</th>\n",
              "      <td>NaN</td>\n",
              "      <td>NaN</td>\n",
              "      <td>115565.000000</td>\n",
              "      <td>NaN</td>\n",
              "      <td>NaN</td>\n",
              "      <td>NaN</td>\n",
              "      <td>NaN</td>\n",
              "      <td>2179.000000</td>\n",
              "      <td>NaN</td>\n",
              "      <td>7.000000</td>\n",
              "      <td>8.000000</td>\n",
              "      <td>2.100000e+03</td>\n",
              "      <td>11.000000</td>\n",
              "      <td>2.000000</td>\n",
              "      <td>-0.706552</td>\n",
              "      <td>-0.695780</td>\n",
              "      <td>-0.633775</td>\n",
              "    </tr>\n",
              "    <tr>\n",
              "      <th>50%</th>\n",
              "      <td>NaN</td>\n",
              "      <td>NaN</td>\n",
              "      <td>182666.000000</td>\n",
              "      <td>NaN</td>\n",
              "      <td>NaN</td>\n",
              "      <td>NaN</td>\n",
              "      <td>NaN</td>\n",
              "      <td>4949.000000</td>\n",
              "      <td>NaN</td>\n",
              "      <td>19.000000</td>\n",
              "      <td>27.000000</td>\n",
              "      <td>7.600000e+03</td>\n",
              "      <td>22.000000</td>\n",
              "      <td>5.000000</td>\n",
              "      <td>-0.020934</td>\n",
              "      <td>0.007022</td>\n",
              "      <td>0.072082</td>\n",
              "    </tr>\n",
              "    <tr>\n",
              "      <th>75%</th>\n",
              "      <td>NaN</td>\n",
              "      <td>NaN</td>\n",
              "      <td>257401.000000</td>\n",
              "      <td>NaN</td>\n",
              "      <td>NaN</td>\n",
              "      <td>NaN</td>\n",
              "      <td>NaN</td>\n",
              "      <td>9858.000000</td>\n",
              "      <td>NaN</td>\n",
              "      <td>48.000000</td>\n",
              "      <td>78.000000</td>\n",
              "      <td>1.870000e+04</td>\n",
              "      <td>45.000000</td>\n",
              "      <td>10.000000</td>\n",
              "      <td>0.682689</td>\n",
              "      <td>0.708778</td>\n",
              "      <td>0.697072</td>\n",
              "    </tr>\n",
              "    <tr>\n",
              "      <th>max</th>\n",
              "      <td>NaN</td>\n",
              "      <td>NaN</td>\n",
              "      <td>314088.000000</td>\n",
              "      <td>NaN</td>\n",
              "      <td>NaN</td>\n",
              "      <td>NaN</td>\n",
              "      <td>NaN</td>\n",
              "      <td>352471.000000</td>\n",
              "      <td>NaN</td>\n",
              "      <td>2266.000000</td>\n",
              "      <td>8718.000000</td>\n",
              "      <td>1.730000e+06</td>\n",
              "      <td>1466.000000</td>\n",
              "      <td>445.000000</td>\n",
              "      <td>5.182821</td>\n",
              "      <td>4.872866</td>\n",
              "      <td>3.900973</td>\n",
              "    </tr>\n",
              "  </tbody>\n",
              "</table>\n",
              "</div>\n",
              "    <div class=\"colab-df-buttons\">\n",
              "\n",
              "  <div class=\"colab-df-container\">\n",
              "    <button class=\"colab-df-convert\" onclick=\"convertToInteractive('df-30e29df1-b6a8-4ec7-8c93-452d2aca59f2')\"\n",
              "            title=\"Convert this dataframe to an interactive table.\"\n",
              "            style=\"display:none;\">\n",
              "\n",
              "  <svg xmlns=\"http://www.w3.org/2000/svg\" height=\"24px\" viewBox=\"0 -960 960 960\">\n",
              "    <path d=\"M120-120v-720h720v720H120Zm60-500h600v-160H180v160Zm220 220h160v-160H400v160Zm0 220h160v-160H400v160ZM180-400h160v-160H180v160Zm440 0h160v-160H620v160ZM180-180h160v-160H180v160Zm440 0h160v-160H620v160Z\"/>\n",
              "  </svg>\n",
              "    </button>\n",
              "\n",
              "  <style>\n",
              "    .colab-df-container {\n",
              "      display:flex;\n",
              "      gap: 12px;\n",
              "    }\n",
              "\n",
              "    .colab-df-convert {\n",
              "      background-color: #E8F0FE;\n",
              "      border: none;\n",
              "      border-radius: 50%;\n",
              "      cursor: pointer;\n",
              "      display: none;\n",
              "      fill: #1967D2;\n",
              "      height: 32px;\n",
              "      padding: 0 0 0 0;\n",
              "      width: 32px;\n",
              "    }\n",
              "\n",
              "    .colab-df-convert:hover {\n",
              "      background-color: #E2EBFA;\n",
              "      box-shadow: 0px 1px 2px rgba(60, 64, 67, 0.3), 0px 1px 3px 1px rgba(60, 64, 67, 0.15);\n",
              "      fill: #174EA6;\n",
              "    }\n",
              "\n",
              "    .colab-df-buttons div {\n",
              "      margin-bottom: 4px;\n",
              "    }\n",
              "\n",
              "    [theme=dark] .colab-df-convert {\n",
              "      background-color: #3B4455;\n",
              "      fill: #D2E3FC;\n",
              "    }\n",
              "\n",
              "    [theme=dark] .colab-df-convert:hover {\n",
              "      background-color: #434B5C;\n",
              "      box-shadow: 0px 1px 3px 1px rgba(0, 0, 0, 0.15);\n",
              "      filter: drop-shadow(0px 1px 2px rgba(0, 0, 0, 0.3));\n",
              "      fill: #FFFFFF;\n",
              "    }\n",
              "  </style>\n",
              "\n",
              "    <script>\n",
              "      const buttonEl =\n",
              "        document.querySelector('#df-30e29df1-b6a8-4ec7-8c93-452d2aca59f2 button.colab-df-convert');\n",
              "      buttonEl.style.display =\n",
              "        google.colab.kernel.accessAllowed ? 'block' : 'none';\n",
              "\n",
              "      async function convertToInteractive(key) {\n",
              "        const element = document.querySelector('#df-30e29df1-b6a8-4ec7-8c93-452d2aca59f2');\n",
              "        const dataTable =\n",
              "          await google.colab.kernel.invokeFunction('convertToInteractive',\n",
              "                                                    [key], {});\n",
              "        if (!dataTable) return;\n",
              "\n",
              "        const docLinkHtml = 'Like what you see? Visit the ' +\n",
              "          '<a target=\"_blank\" href=https://colab.research.google.com/notebooks/data_table.ipynb>data table notebook</a>'\n",
              "          + ' to learn more about interactive tables.';\n",
              "        element.innerHTML = '';\n",
              "        dataTable['output_type'] = 'display_data';\n",
              "        await google.colab.output.renderOutput(dataTable, element);\n",
              "        const docLink = document.createElement('div');\n",
              "        docLink.innerHTML = docLinkHtml;\n",
              "        element.appendChild(docLink);\n",
              "      }\n",
              "    </script>\n",
              "  </div>\n",
              "\n",
              "\n",
              "<div id=\"df-85c0d3a8-ad6f-4050-83a1-8df44d2c0e19\">\n",
              "  <button class=\"colab-df-quickchart\" onclick=\"quickchart('df-85c0d3a8-ad6f-4050-83a1-8df44d2c0e19')\"\n",
              "            title=\"Suggest charts\"\n",
              "            style=\"display:none;\">\n",
              "\n",
              "<svg xmlns=\"http://www.w3.org/2000/svg\" height=\"24px\"viewBox=\"0 0 24 24\"\n",
              "     width=\"24px\">\n",
              "    <g>\n",
              "        <path d=\"M19 3H5c-1.1 0-2 .9-2 2v14c0 1.1.9 2 2 2h14c1.1 0 2-.9 2-2V5c0-1.1-.9-2-2-2zM9 17H7v-7h2v7zm4 0h-2V7h2v10zm4 0h-2v-4h2v4z\"/>\n",
              "    </g>\n",
              "</svg>\n",
              "  </button>\n",
              "\n",
              "<style>\n",
              "  .colab-df-quickchart {\n",
              "      --bg-color: #E8F0FE;\n",
              "      --fill-color: #1967D2;\n",
              "      --hover-bg-color: #E2EBFA;\n",
              "      --hover-fill-color: #174EA6;\n",
              "      --disabled-fill-color: #AAA;\n",
              "      --disabled-bg-color: #DDD;\n",
              "  }\n",
              "\n",
              "  [theme=dark] .colab-df-quickchart {\n",
              "      --bg-color: #3B4455;\n",
              "      --fill-color: #D2E3FC;\n",
              "      --hover-bg-color: #434B5C;\n",
              "      --hover-fill-color: #FFFFFF;\n",
              "      --disabled-bg-color: #3B4455;\n",
              "      --disabled-fill-color: #666;\n",
              "  }\n",
              "\n",
              "  .colab-df-quickchart {\n",
              "    background-color: var(--bg-color);\n",
              "    border: none;\n",
              "    border-radius: 50%;\n",
              "    cursor: pointer;\n",
              "    display: none;\n",
              "    fill: var(--fill-color);\n",
              "    height: 32px;\n",
              "    padding: 0;\n",
              "    width: 32px;\n",
              "  }\n",
              "\n",
              "  .colab-df-quickchart:hover {\n",
              "    background-color: var(--hover-bg-color);\n",
              "    box-shadow: 0 1px 2px rgba(60, 64, 67, 0.3), 0 1px 3px 1px rgba(60, 64, 67, 0.15);\n",
              "    fill: var(--button-hover-fill-color);\n",
              "  }\n",
              "\n",
              "  .colab-df-quickchart-complete:disabled,\n",
              "  .colab-df-quickchart-complete:disabled:hover {\n",
              "    background-color: var(--disabled-bg-color);\n",
              "    fill: var(--disabled-fill-color);\n",
              "    box-shadow: none;\n",
              "  }\n",
              "\n",
              "  .colab-df-spinner {\n",
              "    border: 2px solid var(--fill-color);\n",
              "    border-color: transparent;\n",
              "    border-bottom-color: var(--fill-color);\n",
              "    animation:\n",
              "      spin 1s steps(1) infinite;\n",
              "  }\n",
              "\n",
              "  @keyframes spin {\n",
              "    0% {\n",
              "      border-color: transparent;\n",
              "      border-bottom-color: var(--fill-color);\n",
              "      border-left-color: var(--fill-color);\n",
              "    }\n",
              "    20% {\n",
              "      border-color: transparent;\n",
              "      border-left-color: var(--fill-color);\n",
              "      border-top-color: var(--fill-color);\n",
              "    }\n",
              "    30% {\n",
              "      border-color: transparent;\n",
              "      border-left-color: var(--fill-color);\n",
              "      border-top-color: var(--fill-color);\n",
              "      border-right-color: var(--fill-color);\n",
              "    }\n",
              "    40% {\n",
              "      border-color: transparent;\n",
              "      border-right-color: var(--fill-color);\n",
              "      border-top-color: var(--fill-color);\n",
              "    }\n",
              "    60% {\n",
              "      border-color: transparent;\n",
              "      border-right-color: var(--fill-color);\n",
              "    }\n",
              "    80% {\n",
              "      border-color: transparent;\n",
              "      border-right-color: var(--fill-color);\n",
              "      border-bottom-color: var(--fill-color);\n",
              "    }\n",
              "    90% {\n",
              "      border-color: transparent;\n",
              "      border-bottom-color: var(--fill-color);\n",
              "    }\n",
              "  }\n",
              "</style>\n",
              "\n",
              "  <script>\n",
              "    async function quickchart(key) {\n",
              "      const quickchartButtonEl =\n",
              "        document.querySelector('#' + key + ' button');\n",
              "      quickchartButtonEl.disabled = true;  // To prevent multiple clicks.\n",
              "      quickchartButtonEl.classList.add('colab-df-spinner');\n",
              "      try {\n",
              "        const charts = await google.colab.kernel.invokeFunction(\n",
              "            'suggestCharts', [key], {});\n",
              "      } catch (error) {\n",
              "        console.error('Error during call to suggestCharts:', error);\n",
              "      }\n",
              "      quickchartButtonEl.classList.remove('colab-df-spinner');\n",
              "      quickchartButtonEl.classList.add('colab-df-quickchart-complete');\n",
              "    }\n",
              "    (() => {\n",
              "      let quickchartButtonEl =\n",
              "        document.querySelector('#df-85c0d3a8-ad6f-4050-83a1-8df44d2c0e19 button');\n",
              "      quickchartButtonEl.style.display =\n",
              "        google.colab.kernel.accessAllowed ? 'block' : 'none';\n",
              "    })();\n",
              "  </script>\n",
              "</div>\n",
              "    </div>\n",
              "  </div>\n"
            ],
            "application/vnd.google.colaboratory.intrinsic+json": {
              "type": "dataframe",
              "summary": "{\n  \"name\": \"df\",\n  \"rows\": 11,\n  \"fields\": [\n    {\n      \"column\": \"url\",\n      \"properties\": {\n        \"dtype\": \"category\",\n        \"num_unique_values\": 3,\n        \"samples\": [\n          \"134137\",\n          \"https://habrahabr.ru/post/18284/\",\n          \"1\"\n        ],\n        \"semantic_type\": \"\",\n        \"description\": \"\"\n      }\n    },\n    {\n      \"column\": \"domain\",\n      \"properties\": {\n        \"dtype\": \"category\",\n        \"num_unique_values\": 4,\n        \"samples\": [\n          2,\n          \"97048\",\n          \"134137\"\n        ],\n        \"semantic_type\": \"\",\n        \"description\": \"\"\n      }\n    },\n    {\n      \"column\": \"post_id\",\n      \"properties\": {\n        \"dtype\": \"number\",\n        \"std\": 94899.72033876138,\n        \"min\": 18284.0,\n        \"max\": 314088.0,\n        \"num_unique_values\": 8,\n        \"samples\": [\n          181307.0542654152,\n          182666.0,\n          134137.0\n        ],\n        \"semantic_type\": \"\",\n        \"description\": \"\"\n      }\n    },\n    {\n      \"column\": \"published\",\n      \"properties\": {\n        \"dtype\": \"date\",\n        \"min\": \"1970-01-01 00:00:00.000000039\",\n        \"max\": \"2011-06-14 15:52:00\",\n        \"num_unique_values\": 4,\n        \"samples\": [\n          130291,\n          \"39\",\n          \"134137\"\n        ],\n        \"semantic_type\": \"\",\n        \"description\": \"\"\n      }\n    },\n    {\n      \"column\": \"author\",\n      \"properties\": {\n        \"dtype\": \"category\",\n        \"num_unique_values\": 4,\n        \"samples\": [\n          22077,\n          \"5292\",\n          \"97657\"\n        ],\n        \"semantic_type\": \"\",\n        \"description\": \"\"\n      }\n    },\n    {\n      \"column\": \"flow\",\n      \"properties\": {\n        \"dtype\": \"category\",\n        \"num_unique_values\": 4,\n        \"samples\": [\n          6,\n          \"53318\",\n          \"97048\"\n        ],\n        \"semantic_type\": \"\",\n        \"description\": \"\"\n      }\n    },\n    {\n      \"column\": \"polling\",\n      \"properties\": {\n        \"dtype\": \"category\",\n        \"num_unique_values\": 4,\n        \"samples\": [\n          2,\n          \"129412\",\n          \"134137\"\n        ],\n        \"semantic_type\": \"\",\n        \"description\": \"\"\n      }\n    },\n    {\n      \"column\": \"content_len\",\n      \"properties\": {\n        \"dtype\": \"number\",\n        \"std\": 124618.74015336843,\n        \"min\": 1.0,\n        \"max\": 352471.0,\n        \"num_unique_values\": 8,\n        \"samples\": [\n          7516.92969874084,\n          4949.0,\n          134137.0\n        ],\n        \"semantic_type\": \"\",\n        \"description\": \"\"\n      }\n    },\n    {\n      \"column\": \"title\",\n      \"properties\": {\n        \"dtype\": \"category\",\n        \"num_unique_values\": 4,\n        \"samples\": [\n          133628,\n          \"56\",\n          \"134137\"\n        ],\n        \"semantic_type\": \"\",\n        \"description\": \"\"\n      }\n    },\n    {\n      \"column\": \"comments\",\n      \"properties\": {\n        \"dtype\": \"number\",\n        \"std\": 47307.729579431274,\n        \"min\": 0.0,\n        \"max\": 134137.0,\n        \"num_unique_values\": 8,\n        \"samples\": [\n          39.625994319240775,\n          19.0,\n          134137.0\n        ],\n        \"semantic_type\": \"\",\n        \"description\": \"\"\n      }\n    },\n    {\n      \"column\": \"favs\",\n      \"properties\": {\n        \"dtype\": \"number\",\n        \"std\": 47065.301184577,\n        \"min\": 0.0,\n        \"max\": 134137.0,\n        \"num_unique_values\": 8,\n        \"samples\": [\n          71.99986580883723,\n          27.0,\n          134137.0\n        ],\n        \"semantic_type\": \"\",\n        \"description\": \"\"\n      }\n    },\n    {\n      \"column\": \"views\",\n      \"properties\": {\n        \"dtype\": \"number\",\n        \"std\": 602590.4149797519,\n        \"min\": 3.0,\n        \"max\": 1730000.0,\n        \"num_unique_values\": 8,\n        \"samples\": [\n          16631.01308363837,\n          7600.0,\n          134137.0\n        ],\n        \"semantic_type\": \"\",\n        \"description\": \"\"\n      }\n    },\n    {\n      \"column\": \"votes_plus\",\n      \"properties\": {\n        \"dtype\": \"number\",\n        \"std\": 47143.484413778184,\n        \"min\": 0.0,\n        \"max\": 133566.0,\n        \"num_unique_values\": 8,\n        \"samples\": [\n          35.53688813021278,\n          22.0,\n          133566.0\n        ],\n        \"semantic_type\": \"\",\n        \"description\": \"\"\n      }\n    },\n    {\n      \"column\": \"votes_minus\",\n      \"properties\": {\n        \"dtype\": \"number\",\n        \"std\": 47198.64541741708,\n        \"min\": 0.0,\n        \"max\": 133566.0,\n        \"num_unique_values\": 8,\n        \"samples\": [\n          8.050035188595901,\n          5.0,\n          133566.0\n        ],\n        \"semantic_type\": \"\",\n        \"description\": \"\"\n      }\n    },\n    {\n      \"column\": \"views_lognorm\",\n      \"properties\": {\n        \"dtype\": \"number\",\n        \"std\": 47424.61501314601,\n        \"min\": -6.61525350909,\n        \"max\": 134137.0,\n        \"num_unique_values\": 8,\n        \"samples\": [\n          0.004848658122344507,\n          -0.0209343976274,\n          134137.0\n        ],\n        \"semantic_type\": \"\",\n        \"description\": \"\"\n      }\n    },\n    {\n      \"column\": \"favs_lognorm\",\n      \"properties\": {\n        \"dtype\": \"number\",\n        \"std\": 47424.50225359954,\n        \"min\": -4.13766249941,\n        \"max\": 134137.0,\n        \"num_unique_values\": 8,\n        \"samples\": [\n          0.003402153418709079,\n          0.00702181175456,\n          134137.0\n        ],\n        \"semantic_type\": \"\",\n        \"description\": \"\"\n      }\n    },\n    {\n      \"column\": \"comments_lognorm\",\n      \"properties\": {\n        \"dtype\": \"number\",\n        \"std\": 47424.546962672764,\n        \"min\": -4.16196746411,\n        \"max\": 134137.0,\n        \"num_unique_values\": 8,\n        \"samples\": [\n          -0.0036751494880241475,\n          0.0720818674417,\n          134137.0\n        ],\n        \"semantic_type\": \"\",\n        \"description\": \"\"\n      }\n    }\n  ]\n}"
            }
          },
          "metadata": {},
          "execution_count": 7
        }
      ],
      "source": [
        "df.describe(include = \"all\")"
      ]
    },
    {
      "cell_type": "code",
      "execution_count": null,
      "metadata": {
        "colab": {
          "base_uri": "https://localhost:8080/",
          "height": 178
        },
        "id": "ombm40qZoZlG",
        "outputId": "b56e2714-d76d-4492-c2d0-4c8f79258750"
      },
      "outputs": [
        {
          "output_type": "execute_result",
          "data": {
            "text/plain": [
              "polling\n",
              "False    129412\n",
              "True       4725\n",
              "Name: count, dtype: int64"
            ],
            "text/html": [
              "<div>\n",
              "<style scoped>\n",
              "    .dataframe tbody tr th:only-of-type {\n",
              "        vertical-align: middle;\n",
              "    }\n",
              "\n",
              "    .dataframe tbody tr th {\n",
              "        vertical-align: top;\n",
              "    }\n",
              "\n",
              "    .dataframe thead th {\n",
              "        text-align: right;\n",
              "    }\n",
              "</style>\n",
              "<table border=\"1\" class=\"dataframe\">\n",
              "  <thead>\n",
              "    <tr style=\"text-align: right;\">\n",
              "      <th></th>\n",
              "      <th>count</th>\n",
              "    </tr>\n",
              "    <tr>\n",
              "      <th>polling</th>\n",
              "      <th></th>\n",
              "    </tr>\n",
              "  </thead>\n",
              "  <tbody>\n",
              "    <tr>\n",
              "      <th>False</th>\n",
              "      <td>129412</td>\n",
              "    </tr>\n",
              "    <tr>\n",
              "      <th>True</th>\n",
              "      <td>4725</td>\n",
              "    </tr>\n",
              "  </tbody>\n",
              "</table>\n",
              "</div><br><label><b>dtype:</b> int64</label>"
            ]
          },
          "metadata": {},
          "execution_count": 8
        }
      ],
      "source": [
        "df['polling'].value_counts()"
      ]
    },
    {
      "cell_type": "markdown",
      "source": [
        "Вывод: данный датафрейм содержит 17 столбцов. Также в датафрейме присутствуют пропуски (NaN). Некоторые данные приведены к логонормальному виду: views_lognorm, favs_lognorm, comments_lognor."
      ],
      "metadata": {
        "id": "U7gdT2il1VME"
      }
    },
    {
      "cell_type": "markdown",
      "metadata": {
        "id": "KLOn1ve6SGb5"
      },
      "source": [
        "1.2. Обработать пропуски"
      ]
    },
    {
      "cell_type": "code",
      "execution_count": null,
      "metadata": {
        "colab": {
          "base_uri": "https://localhost:8080/"
        },
        "id": "9SIzgnQMhh9F",
        "outputId": "2d62723f-c887-4957-8858-836444333768"
      },
      "outputs": [
        {
          "data": {
            "text/plain": [
              "url                     0\n",
              "domain                  0\n",
              "post_id                 0\n",
              "published               0\n",
              "author              36480\n",
              "flow                37089\n",
              "polling                 0\n",
              "content_len             0\n",
              "title                   0\n",
              "comments                0\n",
              "favs                    0\n",
              "views                   0\n",
              "votes_plus            571\n",
              "votes_minus           571\n",
              "views_lognorm           0\n",
              "favs_lognorm            0\n",
              "comments_lognorm        0\n",
              "dtype: int64"
            ]
          },
          "execution_count": 11,
          "metadata": {},
          "output_type": "execute_result"
        }
      ],
      "source": [
        "# Проверка на пропуски\n",
        "df.isnull().sum()"
      ]
    },
    {
      "cell_type": "code",
      "execution_count": null,
      "metadata": {
        "id": "DXCvZSgHgj3y"
      },
      "outputs": [],
      "source": [
        "df.fillna(value= 0 , inplace= True )"
      ]
    },
    {
      "cell_type": "code",
      "execution_count": null,
      "metadata": {
        "colab": {
          "base_uri": "https://localhost:8080/"
        },
        "id": "OWIICYVKhiwQ",
        "outputId": "34d7eca1-f5e5-4f97-eea7-13e32c62466b"
      },
      "outputs": [
        {
          "data": {
            "text/plain": [
              "url                 0\n",
              "domain              0\n",
              "post_id             0\n",
              "published           0\n",
              "author              0\n",
              "flow                0\n",
              "polling             0\n",
              "content_len         0\n",
              "title               0\n",
              "comments            0\n",
              "favs                0\n",
              "views               0\n",
              "votes_plus          0\n",
              "votes_minus         0\n",
              "views_lognorm       0\n",
              "favs_lognorm        0\n",
              "comments_lognorm    0\n",
              "dtype: int64"
            ]
          },
          "execution_count": 13,
          "metadata": {},
          "output_type": "execute_result"
        }
      ],
      "source": [
        "# Проверка на пропуски\n",
        "df.isnull().sum()"
      ]
    },
    {
      "cell_type": "markdown",
      "source": [
        "Вывод: как видно, в столбцах author, flow, votes_plus, votes_minus, пустые значения были заменены на нулевые для возможности обработки данных."
      ],
      "metadata": {
        "id": "MgCdeebW2Pf1"
      }
    },
    {
      "cell_type": "markdown",
      "metadata": {
        "id": "-kZK7WLlSKbf"
      },
      "source": [
        "1.3. Преобразовать признаки, если требуется"
      ]
    },
    {
      "cell_type": "code",
      "source": [
        "df['published'] = pd.to_datetime(df['published'], format='%Y-%m-%d %H:%M:%S')"
      ],
      "metadata": {
        "id": "RxEtCjQa2or6"
      },
      "execution_count": null,
      "outputs": []
    },
    {
      "cell_type": "code",
      "source": [
        "df['published'].info()"
      ],
      "metadata": {
        "colab": {
          "base_uri": "https://localhost:8080/"
        },
        "id": "qeRbu5Zz4J9n",
        "outputId": "74ef8106-0527-45b3-f833-db8221ca9516"
      },
      "execution_count": null,
      "outputs": [
        {
          "output_type": "stream",
          "name": "stdout",
          "text": [
            "<class 'pandas.core.series.Series'>\n",
            "RangeIndex: 134137 entries, 0 to 134136\n",
            "Series name: published\n",
            "Non-Null Count   Dtype         \n",
            "--------------   -----         \n",
            "134137 non-null  datetime64[ns]\n",
            "dtypes: datetime64[ns](1)\n",
            "memory usage: 1.0 MB\n"
          ]
        }
      ]
    },
    {
      "cell_type": "markdown",
      "source": [
        "Вывод: признак published был преобразован из типа object в тип datatime, чтобы иметь возможность обращаться к данным, как к дате и времени."
      ],
      "metadata": {
        "id": "60jkMqYK2pHv"
      }
    },
    {
      "cell_type": "markdown",
      "metadata": {
        "id": "Rn39dTbTSQrA"
      },
      "source": [
        "1.4. Построить графики для общего понимания данных"
      ]
    },
    {
      "cell_type": "code",
      "execution_count": null,
      "metadata": {
        "colab": {
          "base_uri": "https://localhost:8080/",
          "height": 427
        },
        "id": "cfkWiWTox0Pm",
        "outputId": "70381c99-9ab3-484a-8a90-eff6fad040f7"
      },
      "outputs": [
        {
          "data": {
            "text/plain": [
              "<matplotlib.legend.Legend at 0x79c79a9f2e00>"
            ]
          },
          "execution_count": 18,
          "metadata": {},
          "output_type": "execute_result"
        },
        {
          "data": {
            "image/png": "[encoded data removed]",
            "text/plain": [
              "<Figure size 1500x400 with 1 Axes>"
            ]
          },
          "metadata": {},
          "output_type": "display_data"
        }
      ],
      "source": [
        "fig, (ax1) = plt.subplots(ncols=1, figsize=(15, 4))\n",
        "ax1.set_title('Исходные распределения')\n",
        "\n",
        "sns.kdeplot(df['views_lognorm'], ax=ax1, label ='views_lognorm')\n",
        "sns.kdeplot(df['favs_lognorm'], ax=ax1, label ='favs_lognorm')\n",
        "sns.kdeplot(df['comments_lognorm'], ax=ax1, label ='comments_lognorm')\n",
        "plt.legend()"
      ]
    },
    {
      "cell_type": "markdown",
      "metadata": {
        "id": "NJ9vbe8mT6cc"
      },
      "source": [
        "Вовод: распределение исходных данных -- приближено к нормальному, но не является таковым."
      ]
    },
    {
      "cell_type": "markdown",
      "metadata": {
        "id": "vQEUmlC6YQaP"
      },
      "source": [
        "Отсекаем выбросы у views, comments и favs:"
      ]
    },
    {
      "cell_type": "code",
      "execution_count": null,
      "metadata": {
        "id": "UYft-ues2-53"
      },
      "outputs": [],
      "source": [
        "def outliers_iqr(data, feature, left=1.5, right=1.5):\n",
        "    x = data[feature]\n",
        "    quartile_1, quartile_3 = x.quantile(0.25), x.quantile(0.75),\n",
        "    iqr = quartile_3 - quartile_1\n",
        "    lower_bound = quartile_1 - (iqr * left)\n",
        "    upper_bound = quartile_3 + (iqr * right)\n",
        "    outliers = data[(x < lower_bound) | (x > upper_bound)]\n",
        "    cleaned = data[(x >= lower_bound) & (x <= upper_bound)]\n",
        "    return outliers, cleaned"
      ]
    },
    {
      "cell_type": "code",
      "execution_count": null,
      "metadata": {
        "colab": {
          "background_save": true
        },
        "id": "xVNZw_2xfYuO"
      },
      "outputs": [],
      "source": [
        "outliers1, cleaned1 = outliers_iqr(df, 'views')\n",
        "outliers2, cleaned2 = outliers_iqr(df, 'favs')\n",
        "outliers3, cleaned3 = outliers_iqr(df, 'comments')"
      ]
    },
    {
      "cell_type": "code",
      "execution_count": null,
      "metadata": {
        "id": "GDbXADbhflQ_"
      },
      "outputs": [],
      "source": [
        "fig, (ax2) = plt.subplots(ncols=1, figsize=(15, 4))\n",
        "ax2.set_title('Исходные распределения')\n",
        "\n",
        "sns.kdeplot(data=cleaned1, ax=ax1, label ='views')\n",
        "sns.kdeplot(data=cleaned2, ax=ax1, label ='favs_lognorm')\n",
        "sns.kdeplot(data=cleaned3, ax=ax1, label ='comments_lognorm')\n",
        "plt.legend()"
      ]
    },
    {
      "cell_type": "code",
      "execution_count": null,
      "metadata": {
        "colab": {
          "base_uri": "https://localhost:8080/"
        },
        "id": "e60EzqKY3Ejb",
        "outputId": "573cfc7e-ace2-4874-c330-fd06eed66b25"
      },
      "outputs": [
        {
          "name": "stdout",
          "output_type": "stream",
          "text": [
            "Число выбросов по методу Тьюки: 11715\n",
            "Результирующее число записей: 122422\n"
          ]
        }
      ],
      "source": [
        "outliers, cleaned = outliers_iqr(df, 'views')\n",
        "print(f'Число выбросов по методу Тьюки: {outliers.shape[0]}')\n",
        "print(f'Результирующее число записей: {cleaned.shape[0]}')"
      ]
    },
    {
      "cell_type": "code",
      "execution_count": null,
      "metadata": {
        "colab": {
          "base_uri": "https://localhost:8080/",
          "height": 410
        },
        "id": "z5oRG4Pq3NXX",
        "outputId": "66de7fe9-e326-4043-85b8-96d136545314"
      },
      "outputs": [
        {
          "data": {
            "image/png": "[encoded data removed]",
            "text/plain": [
              "<Figure size 1500x400 with 2 Axes>"
            ]
          },
          "metadata": {},
          "output_type": "display_data"
        }
      ],
      "source": [
        "fig, axes = plt.subplots(nrows=1, ncols=2, figsize=(15, 4))\n",
        "histplot = sns.histplot(data=cleaned, x='views', ax=axes[0]);\n",
        "histplot.set_title('Cleaned Full Square Distribution');\n",
        "boxplot = sns.boxplot(data=cleaned, x='views', ax=axes[1]);\n",
        "boxplot.set_title('Cleaned Full Square Boxplot');"
      ]
    },
    {
      "cell_type": "code",
      "execution_count": null,
      "metadata": {
        "colab": {
          "base_uri": "https://localhost:8080/"
        },
        "id": "PeXWyW1uShkv",
        "outputId": "9840f62d-a321-4c84-d91e-65b054081f78"
      },
      "outputs": [
        {
          "name": "stdout",
          "output_type": "stream",
          "text": [
            "Число выбросов по методу Тьюки: 12863\n",
            "Результирующее число записей: 121274\n"
          ]
        }
      ],
      "source": [
        "outliers, cleaned = outliers_iqr(df, 'favs')\n",
        "print(f'Число выбросов по методу Тьюки: {outliers.shape[0]}')\n",
        "print(f'Результирующее число записей: {cleaned.shape[0]}')"
      ]
    },
    {
      "cell_type": "code",
      "execution_count": null,
      "metadata": {
        "colab": {
          "base_uri": "https://localhost:8080/",
          "height": 410
        },
        "id": "G80kkMzgSuaM",
        "outputId": "f16e5376-4425-4c70-adc3-84da6bd2ae40"
      },
      "outputs": [
        {
          "data": {
            "image/png": "[encoded data removed]",
            "text/plain": [
              "<Figure size 1500x400 with 2 Axes>"
            ]
          },
          "metadata": {},
          "output_type": "display_data"
        }
      ],
      "source": [
        "fig, axes = plt.subplots(nrows=1, ncols=2, figsize=(15, 4))\n",
        "histplot = sns.histplot(data=cleaned, x='favs', ax=axes[0]);\n",
        "histplot.set_title('Cleaned Full Square Distribution');\n",
        "boxplot = sns.boxplot(data=cleaned, x='favs', ax=axes[1]);\n",
        "boxplot.set_title('Cleaned Full Square Boxplot');"
      ]
    },
    {
      "cell_type": "code",
      "execution_count": null,
      "metadata": {
        "colab": {
          "base_uri": "https://localhost:8080/"
        },
        "id": "YA0e-b7CTcCM",
        "outputId": "ad323cbd-061e-49a5-f24b-9f3a2955abc7"
      },
      "outputs": [
        {
          "name": "stdout",
          "output_type": "stream",
          "text": [
            "Число выбросов по методу Тьюки: 10958\n",
            "Результирующее число записей: 123179\n"
          ]
        }
      ],
      "source": [
        "outliers, cleaned = outliers_iqr(df, 'comments')\n",
        "print(f'Число выбросов по методу Тьюки: {outliers.shape[0]}')\n",
        "print(f'Результирующее число записей: {cleaned.shape[0]}')"
      ]
    },
    {
      "cell_type": "code",
      "execution_count": null,
      "metadata": {
        "colab": {
          "base_uri": "https://localhost:8080/",
          "height": 410
        },
        "id": "apA5ji2WTgC0",
        "outputId": "c96d0f4d-1286-4b9e-d18e-1c7ee80d38d3"
      },
      "outputs": [
        {
          "data": {
            "image/png": "[encoded data removed]",
            "text/plain": [
              "<Figure size 1500x400 with 2 Axes>"
            ]
          },
          "metadata": {},
          "output_type": "display_data"
        }
      ],
      "source": [
        "fig, axes = plt.subplots(nrows=1, ncols=2, figsize=(15, 4))\n",
        "histplot = sns.histplot(data=cleaned, x='comments', ax=axes[0]);\n",
        "histplot.set_title('Cleaned Full Square Distribution');\n",
        "boxplot = sns.boxplot(data=cleaned, x='comments', ax=axes[1]);\n",
        "boxplot.set_title('Cleaned Full Square Boxplot');"
      ]
    },
    {
      "cell_type": "markdown",
      "metadata": {
        "id": "lPgTy8O4YUdo"
      },
      "source": [
        "Вывод: как видно, ни один из рассмотренных признаков не имеет нормальный вид распределения."
      ]
    },
    {
      "cell_type": "markdown",
      "source": [
        "ВЫВОДЫ: видно, что нормализованные переменные (views_lognorm, favs_lognorm, comments_lognorm) имеют более нормальное распределение, чем исходные переменные (views, favorites, comments)."
      ],
      "metadata": {
        "id": "7nVAXYKLC5bl"
      }
    },
    {
      "cell_type": "markdown",
      "metadata": {
        "id": "PQtkhZ82Tsfa"
      },
      "source": [
        "## 2. Проверить данные на нормальность (2-3 столбца)"
      ]
    },
    {
      "cell_type": "code",
      "source": [
        "import scipy.stats as stats\n",
        "from scipy.stats import normaltest"
      ],
      "metadata": {
        "id": "8n_4ZHBS8VhF"
      },
      "execution_count": null,
      "outputs": []
    },
    {
      "cell_type": "code",
      "execution_count": null,
      "metadata": {
        "id": "B8xLEIhBfDG1",
        "colab": {
          "base_uri": "https://localhost:8080/",
          "height": 410
        },
        "outputId": "3492ed8b-2469-49c0-f6c1-d41d47698426"
      },
      "outputs": [
        {
          "output_type": "display_data",
          "data": {
            "text/plain": [
              "<Figure size 1000x400 with 1 Axes>"
            ],
            "image/png": "[encoded data removed]"
          },
          "metadata": {}
        }
      ],
      "source": [
        "column_data = df['views_lognorm']\n",
        "\n",
        "# Построение гистограммы\n",
        "plt.figure(figsize=(10, 4))\n",
        "sns.histplot(column_data, kde=True)\n",
        "plt.title('Гистограмма с оценкой плотности')\n",
        "plt.show()"
      ]
    },
    {
      "cell_type": "code",
      "source": [
        "# Тест Д’Агостино\n",
        "dag_test = normaltest(column_data)\n",
        "print('Тест Д’Агостино: статистика=%.3f, p-значение=%.3f' % dag_test)"
      ],
      "metadata": {
        "colab": {
          "base_uri": "https://localhost:8080/"
        },
        "id": "DQtXXONj8r7w",
        "outputId": "191117f0-72a6-46f4-d4d5-6523e2e1fa08"
      },
      "execution_count": null,
      "outputs": [
        {
          "output_type": "stream",
          "name": "stdout",
          "text": [
            "Тест Д’Агостино: статистика=407.198, p-значение=0.000\n"
          ]
        }
      ]
    },
    {
      "cell_type": "markdown",
      "source": [
        "Вывод: следуя данному тесту, вид распределения - ненормальный."
      ],
      "metadata": {
        "id": "dersZN1t9o37"
      }
    },
    {
      "cell_type": "code",
      "source": [
        "column_data2 = df['comments_lognorm']\n",
        "\n",
        "# Построение гистограммы\n",
        "plt.figure(figsize=(10, 4))\n",
        "sns.histplot(column_data2, kde=True)\n",
        "plt.title('Гистограмма с оценкой плотности')\n",
        "plt.show()"
      ],
      "metadata": {
        "colab": {
          "base_uri": "https://localhost:8080/",
          "height": 410
        },
        "id": "hbp3_HmT9qhz",
        "outputId": "73eefad0-29e5-400e-c163-f67f0e9e059e"
      },
      "execution_count": null,
      "outputs": [
        {
          "output_type": "display_data",
          "data": {
            "text/plain": [
              "<Figure size 1000x400 with 1 Axes>"
            ],
            "image/png": "[encoded data removed]"
          },
          "metadata": {}
        }
      ]
    },
    {
      "cell_type": "code",
      "source": [
        "# Тест Д’Агостино\n",
        "dag_test2 = normaltest(column_data2)\n",
        "print('Тест Д’Агостино: статистика=%.3f, p-значение=%.3f' % dag_test2)"
      ],
      "metadata": {
        "colab": {
          "base_uri": "https://localhost:8080/"
        },
        "id": "US_O0qA09_fi",
        "outputId": "f41b0abe-55cb-47ad-aa2e-0b1d4c42e589"
      },
      "execution_count": null,
      "outputs": [
        {
          "output_type": "stream",
          "name": "stdout",
          "text": [
            "Тест Д’Агостино: статистика=1850.497, p-значение=0.000\n"
          ]
        }
      ]
    },
    {
      "cell_type": "markdown",
      "source": [
        "Вывод: следуя данному тесту, вид распределения - ненормальный."
      ],
      "metadata": {
        "id": "JagaKm9IBdeD"
      }
    },
    {
      "cell_type": "code",
      "source": [
        "column_data3 = df['favs']\n",
        "\n",
        "# Построение гистограммы\n",
        "plt.figure(figsize=(10, 4))\n",
        "sns.histplot(column_data3, kde=True)\n",
        "plt.title('Гистограмма с оценкой плотности')\n",
        "plt.show()"
      ],
      "metadata": {
        "colab": {
          "base_uri": "https://localhost:8080/",
          "height": 410
        },
        "id": "XoGmwTKiBeSG",
        "outputId": "848ec1d9-4448-4fb0-966e-919d153ab9c0"
      },
      "execution_count": null,
      "outputs": [
        {
          "output_type": "display_data",
          "data": {
            "text/plain": [
              "<Figure size 1000x400 with 1 Axes>"
            ],
            "image/png": "[encoded data removed]"
          },
          "metadata": {}
        }
      ]
    },
    {
      "cell_type": "code",
      "source": [
        "# Тест Д’Агостино\n",
        "dag_test3 = normaltest(column_data3)\n",
        "print('Тест Д’Агостино: статистика=%.3f, p-значение=%.3f' % dag_test3)"
      ],
      "metadata": {
        "colab": {
          "base_uri": "https://localhost:8080/"
        },
        "id": "umjpjJumBxqt",
        "outputId": "4dfc0aaf-249a-4abd-8b2e-3038f58e883d"
      },
      "execution_count": null,
      "outputs": [
        {
          "output_type": "stream",
          "name": "stdout",
          "text": [
            "Тест Д’Агостино: статистика=200513.152, p-значение=0.000\n"
          ]
        }
      ]
    },
    {
      "cell_type": "markdown",
      "source": [
        "Вывод: следуя данному тесту, вид распределения - ненормальный."
      ],
      "metadata": {
        "id": "MNmAVw-vB7xG"
      }
    },
    {
      "cell_type": "markdown",
      "metadata": {
        "id": "5DWp07nrSyoS"
      },
      "source": [
        "## 3. Выдвинуть и проверить гипотезу"
      ]
    },
    {
      "cell_type": "markdown",
      "metadata": {
        "id": "cVqfnQE1S2XE"
      },
      "source": [
        "3.1. Гипотеза 1: Количество просмотров (views) прямопропорционально количеству комментариев (comments)"
      ]
    },
    {
      "cell_type": "code",
      "execution_count": null,
      "metadata": {
        "id": "zSMKiOylS4U8",
        "colab": {
          "base_uri": "https://localhost:8080/"
        },
        "outputId": "c128bdc7-d467-4df6-be9e-0e8ffe9931f9"
      },
      "outputs": [
        {
          "output_type": "stream",
          "name": "stdout",
          "text": [
            "Коэффициент корреляции между views и comments: 0.29003508403673295\n"
          ]
        }
      ],
      "source": [
        "correlation = df['views'].corr(df['comments'])\n",
        "print(f\"Коэффициент корреляции между views и comments: {correlation}\")"
      ]
    },
    {
      "cell_type": "markdown",
      "source": [
        "Вывод: результат говорит скорее о присутствии положительной корреляции между признаками."
      ],
      "metadata": {
        "id": "TCJ3uUxBFlsx"
      }
    },
    {
      "cell_type": "code",
      "source": [
        "from scipy.stats import spearmanr\n",
        "\n",
        "H0 = 'Количество просмотров (views) положительно коррелиркют с количеством комментариев (comments)'\n",
        "alpha = 0.05\n",
        "corr, p = spearmanr(df['views'], df['comments'])\n",
        "\n",
        "print(corr,p)\n",
        "if p<=alpha:\n",
        "    print(f\"{p} > {alpha}. Мы не можем отвергнуть нулевую гипотезу о наличии зависимости между переменными.\")\n",
        "else:\n",
        "    print(f\"{p} <= {alpha}. Мы отвергаем нулевую гипотезу.\")"
      ],
      "metadata": {
        "colab": {
          "base_uri": "https://localhost:8080/"
        },
        "id": "JkF5e0SxFj7G",
        "outputId": "94e1acaa-3c2b-45f5-fcf0-63b49abf6534"
      },
      "execution_count": null,
      "outputs": [
        {
          "output_type": "stream",
          "name": "stdout",
          "text": [
            "0.2762932902855405 0.0\n",
            "0.0 > 0.05. Мы не можем отвергнуть нулевую гипотезу о наличии зависимости между переменными.\n"
          ]
        }
      ]
    },
    {
      "cell_type": "markdown",
      "source": [
        "Вывод: нулевая гипотеза была принята."
      ],
      "metadata": {
        "id": "tTfqBnC6Gwgc"
      }
    },
    {
      "cell_type": "markdown",
      "metadata": {
        "id": "qC5upavaS4wm"
      },
      "source": [
        "3.2. Гипотеза 2: Нет значимой разницы между средним значением количества \"лайков\" и \"дизлайков\"."
      ]
    },
    {
      "cell_type": "code",
      "source": [
        "from scipy.stats import f_oneway"
      ],
      "metadata": {
        "id": "Xmmh95DUISI6"
      },
      "execution_count": null,
      "outputs": []
    },
    {
      "cell_type": "code",
      "source": [
        "_, p = f_oneway(df['views'], df['comments'])"
      ],
      "metadata": {
        "id": "dhbnZXBeIVi4"
      },
      "execution_count": null,
      "outputs": []
    },
    {
      "cell_type": "code",
      "execution_count": null,
      "metadata": {
        "id": "MRmXSGDLS65t",
        "colab": {
          "base_uri": "https://localhost:8080/"
        },
        "outputId": "940088bf-eb75-4b1b-e00a-f2713a693c31"
      },
      "outputs": [
        {
          "output_type": "stream",
          "name": "stdout",
          "text": [
            "0.0 <= 0.05. Мы отвергаем нулевую гипотезу. Есть значимая разница между средним значением количества \"лайков\" и \"дизлайков\"\n"
          ]
        }
      ],
      "source": [
        "H0 = 'Нет значимой разницы между средним значением количества \"лайков\" и \"дизлайков\"'\n",
        "H1 = 'Есть значимая разница между средним значением количества \"лайков\" и \"дизлайков\"'\n",
        "\n",
        "if p>alpha:\n",
        "  print(f\"{p} > {alpha}. Мы не можем отвергнуть нулевую гипотезу. {H0}\")\n",
        "else:\n",
        "  print(f\"{p} <= {alpha}. Мы отвергаем нулевую гипотезу. {H1}\")"
      ]
    },
    {
      "cell_type": "markdown",
      "source": [
        "Вывод: как показал тест ANOVA, нулевая гипотеза - ошибочна."
      ],
      "metadata": {
        "id": "7bJpVwM1Iw8b"
      }
    }
  ],
  "metadata": {
    "colab": {
      "provenance": []
    },
    "kernelspec": {
      "display_name": "Python 3",
      "name": "python3"
    },
    "language_info": {
      "name": "python"
    }
  },
  "nbformat": 4,
  "nbformat_minor": 0
}
